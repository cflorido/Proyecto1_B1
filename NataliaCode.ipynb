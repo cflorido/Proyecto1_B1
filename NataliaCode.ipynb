{
 "cells": [
  {
   "cell_type": "markdown",
   "metadata": {},
   "source": [
    "# Proyecto 1 - Grupo 9\n",
    "\n",
    "## Integrantes\n",
    "* Carol Sofía Florido Castro - 202111430\n",
    "* Juan Martin Vasquez Cristancho - 202113314 \n",
    "* Natalia Villegas Calderon - 202113370\n"
   ]
  },
  {
   "cell_type": "markdown",
   "metadata": {},
   "source": [
    "## Objetivo\n",
    "\n",
    "* Aplicar la metodología de analítica de textos para la construcción de soluciones de analítica alineadas con los objetivos de organizaciones en un contexto de aplicación"
   ]
  },
  {
   "cell_type": "markdown",
   "metadata": {},
   "source": [
    "## Caso de Negocio: Noticias falsas en la política"
   ]
  },
  {
   "cell_type": "markdown",
   "metadata": {},
   "source": [
    "La divulgación de noticias falsas sobre política a nivel nacional e internacional es una amenaza que puede impactar la gobernabilidad de países y la seguridad global. A nivel\n",
    "interno de un país puede generar polarización y manipulación de la opinión pública debilitando la confianza en instituciones democráticas. Esto puede llevar a influir en elecciones,\n",
    "justificar medidas impopulares entre otras consecuencias. A nivel internacional, estas noticias pueden generar tensiones diplomáticas, influir en decisiones de política exterior y\n",
    "ser usadas en campañas de desestabilización por parte de gobiernos o grupos específicos. Esta reflexión motivó a un grupo de académicos a recolectar y generar noticias con el fin\n",
    "de utilizar aprendizaje automático para facilitar la detección de noticias falsas. Este conjunto de datos es el que se va a utilizar en el contexto de este proyecto y está disponible en\n",
    "la sección de Bloque Neón de la sección unificada del curso"
   ]
  },
  {
   "cell_type": "markdown",
   "metadata": {},
   "source": [
    "## Los datos"
   ]
  },
  {
   "cell_type": "markdown",
   "metadata": {},
   "source": [
    "\n",
    "Se trabaja con un conjunto de datos que contiene 57,063 registros de noticias. Cada registro incluye su titulo, descripcion, fecha de publicacion y la etiqueta que indica 0 si la noticia es falsa o 1 que es verídica."
   ]
  },
  {
   "cell_type": "markdown",
   "metadata": {},
   "source": [
    "# 1. Carga de los datos y manipulación básica de los datos"
   ]
  },
  {
   "cell_type": "markdown",
   "metadata": {},
   "source": [
    "# Limpieza de datos"
   ]
  },
  {
   "cell_type": "code",
   "execution_count": 2,
   "metadata": {},
   "outputs": [
    {
     "name": "stdout",
     "output_type": "stream",
     "text": [
      "Requirement already satisfied: contractions in /Library/Frameworks/Python.framework/Versions/3.11/lib/python3.11/site-packages (0.1.73)\n",
      "Requirement already satisfied: textsearch>=0.0.21 in /Library/Frameworks/Python.framework/Versions/3.11/lib/python3.11/site-packages (from contractions) (0.0.24)\n",
      "Requirement already satisfied: anyascii in /Library/Frameworks/Python.framework/Versions/3.11/lib/python3.11/site-packages (from textsearch>=0.0.21->contractions) (0.3.2)\n",
      "Requirement already satisfied: pyahocorasick in /Library/Frameworks/Python.framework/Versions/3.11/lib/python3.11/site-packages (from textsearch>=0.0.21->contractions) (2.1.0)\n",
      "\n",
      "\u001b[1m[\u001b[0m\u001b[34;49mnotice\u001b[0m\u001b[1;39;49m]\u001b[0m\u001b[39;49m A new release of pip is available: \u001b[0m\u001b[31;49m24.2\u001b[0m\u001b[39;49m -> \u001b[0m\u001b[32;49m25.0.1\u001b[0m\n",
      "\u001b[1m[\u001b[0m\u001b[34;49mnotice\u001b[0m\u001b[1;39;49m]\u001b[0m\u001b[39;49m To update, run: \u001b[0m\u001b[32;49mpip install --upgrade pip\u001b[0m\n",
      "Note: you may need to restart the kernel to use updated packages.\n"
     ]
    }
   ],
   "source": [
    "import pandas as pd\n",
    "import numpy as np\n",
    "import re\n",
    "import string\n",
    "import matplotlib.pyplot as plt\n",
    "import seaborn as sns\n",
    "from sklearn.model_selection import train_test_split\n",
    "from sklearn.feature_extraction.text import TfidfVectorizer\n",
    "from sklearn.ensemble import RandomForestClassifier\n",
    "from sklearn.metrics import accuracy_score, precision_score, recall_score, f1_score, fbeta_score, roc_auc_score, r2_score\n",
    "\n",
    "# Importaciones de nltk\n",
    "import nltk\n",
    "from nltk import word_tokenize, sent_tokenize\n",
    "from nltk.corpus import stopwords\n",
    "from nltk.stem import LancasterStemmer, WordNetLemmatizer, PorterStemmer, SnowballStemmer\n",
    "\n",
    "# Instalación de paquetes adicionales\n",
    "%pip install contractions\n",
    "import contractions\n",
    "\n",
    "# Para búsqueda de hiperparámetros\n",
    "from sklearn.model_selection import GridSearchCV\n",
    "\n",
    "# Para la validación cruzada\n",
    "from sklearn.model_selection import KFold"
   ]
  },
  {
   "cell_type": "code",
   "execution_count": 3,
   "metadata": {},
   "outputs": [],
   "source": [
    "# Cargar datos\n",
    "file_path = 'fake_news_spanish.csv'\n",
    "df = pd.read_csv(file_path, delimiter=';', encoding='utf-8')\n"
   ]
  },
  {
   "cell_type": "markdown",
   "metadata": {},
   "source": [
    "Se evidencia que el dataset de entrenamiento presenta 57063 registros y 5 columnas o atributos."
   ]
  },
  {
   "cell_type": "code",
   "execution_count": 4,
   "metadata": {},
   "outputs": [
    {
     "data": {
      "text/plain": [
       "(57063, 5)"
      ]
     },
     "execution_count": 4,
     "metadata": {},
     "output_type": "execute_result"
    }
   ],
   "source": [
    "df.shape"
   ]
  },
  {
   "cell_type": "markdown",
   "metadata": {},
   "source": [
    "Se observa una muestra de datos"
   ]
  },
  {
   "cell_type": "code",
   "execution_count": 5,
   "metadata": {},
   "outputs": [
    {
     "data": {
      "text/html": [
       "<div>\n",
       "<style scoped>\n",
       "    .dataframe tbody tr th:only-of-type {\n",
       "        vertical-align: middle;\n",
       "    }\n",
       "\n",
       "    .dataframe tbody tr th {\n",
       "        vertical-align: top;\n",
       "    }\n",
       "\n",
       "    .dataframe thead th {\n",
       "        text-align: right;\n",
       "    }\n",
       "</style>\n",
       "<table border=\"1\" class=\"dataframe\">\n",
       "  <thead>\n",
       "    <tr style=\"text-align: right;\">\n",
       "      <th></th>\n",
       "      <th>ID</th>\n",
       "      <th>Label</th>\n",
       "      <th>Titulo</th>\n",
       "      <th>Descripcion</th>\n",
       "      <th>Fecha</th>\n",
       "    </tr>\n",
       "  </thead>\n",
       "  <tbody>\n",
       "    <tr>\n",
       "      <th>0</th>\n",
       "      <td>ID</td>\n",
       "      <td>1</td>\n",
       "      <td>'The Guardian' va con Sánchez: 'Europa necesit...</td>\n",
       "      <td>El diario británico publicó este pasado jueves...</td>\n",
       "      <td>02/06/2023</td>\n",
       "    </tr>\n",
       "    <tr>\n",
       "      <th>1</th>\n",
       "      <td>ID</td>\n",
       "      <td>0</td>\n",
       "      <td>REVELAN QUE EL GOBIERNO NEGOCIO LA LIBERACIÓN ...</td>\n",
       "      <td>REVELAN QUE EL GOBIERNO NEGOCIO LA LIBERACIÓN ...</td>\n",
       "      <td>01/10/2023</td>\n",
       "    </tr>\n",
       "    <tr>\n",
       "      <th>2</th>\n",
       "      <td>ID</td>\n",
       "      <td>1</td>\n",
       "      <td>El 'Ahora o nunca' de Joan Fuster sobre el est...</td>\n",
       "      <td>El valencianismo convoca en Castelló su fiesta...</td>\n",
       "      <td>25/04/2022</td>\n",
       "    </tr>\n",
       "    <tr>\n",
       "      <th>3</th>\n",
       "      <td>ID</td>\n",
       "      <td>1</td>\n",
       "      <td>Iglesias alienta a Yolanda Díaz, ERC y EH Bild...</td>\n",
       "      <td>En política, igual que hay que negociar con lo...</td>\n",
       "      <td>03/01/2022</td>\n",
       "    </tr>\n",
       "    <tr>\n",
       "      <th>4</th>\n",
       "      <td>ID</td>\n",
       "      <td>0</td>\n",
       "      <td>Puigdemont: 'No sería ninguna tragedia una rep...</td>\n",
       "      <td>En una entrevista en El Punt Avui, el líder de...</td>\n",
       "      <td>09/03/2018</td>\n",
       "    </tr>\n",
       "  </tbody>\n",
       "</table>\n",
       "</div>"
      ],
      "text/plain": [
       "   ID  Label                                             Titulo  \\\n",
       "0  ID      1  'The Guardian' va con Sánchez: 'Europa necesit...   \n",
       "1  ID      0  REVELAN QUE EL GOBIERNO NEGOCIO LA LIBERACIÓN ...   \n",
       "2  ID      1  El 'Ahora o nunca' de Joan Fuster sobre el est...   \n",
       "3  ID      1  Iglesias alienta a Yolanda Díaz, ERC y EH Bild...   \n",
       "4  ID      0  Puigdemont: 'No sería ninguna tragedia una rep...   \n",
       "\n",
       "                                         Descripcion       Fecha  \n",
       "0  El diario británico publicó este pasado jueves...  02/06/2023  \n",
       "1  REVELAN QUE EL GOBIERNO NEGOCIO LA LIBERACIÓN ...  01/10/2023  \n",
       "2  El valencianismo convoca en Castelló su fiesta...  25/04/2022  \n",
       "3  En política, igual que hay que negociar con lo...  03/01/2022  \n",
       "4  En una entrevista en El Punt Avui, el líder de...  09/03/2018  "
      ]
     },
     "execution_count": 5,
     "metadata": {},
     "output_type": "execute_result"
    }
   ],
   "source": [
    "df.head()\n"
   ]
  },
  {
   "cell_type": "markdown",
   "metadata": {},
   "source": [
    "Se observan los tipos de datos cargados, los cuales tienen sentido con la descripción de los datos. Es importante considerar que aunque el label es un entero, este representa una variable categórica."
   ]
  },
  {
   "cell_type": "code",
   "execution_count": 6,
   "metadata": {},
   "outputs": [
    {
     "data": {
      "text/plain": [
       "ID             object\n",
       "Label           int64\n",
       "Titulo         object\n",
       "Descripcion    object\n",
       "Fecha          object\n",
       "dtype: object"
      ]
     },
     "execution_count": 6,
     "metadata": {},
     "output_type": "execute_result"
    }
   ],
   "source": [
    "df.dtypes"
   ]
  },
  {
   "cell_type": "markdown",
   "metadata": {},
   "source": [
    "Como se evidencia la fecha esta siendo reconocida como objeto, por lo que se decide transformar a datetime."
   ]
  },
  {
   "cell_type": "code",
   "execution_count": 7,
   "metadata": {},
   "outputs": [],
   "source": [
    "# Convertir la columna Fecha a formato datetime, manejando distintos formatos posibles\n",
    "def parse_date(date_str):\n",
    "    try:\n",
    "        return pd.to_datetime(date_str, dayfirst=True, errors='coerce')\n",
    "    except:\n",
    "        return np.nan\n",
    "\n",
    "df['Fecha'] = df['Fecha'].apply(parse_date)\n"
   ]
  },
  {
   "cell_type": "code",
   "execution_count": 8,
   "metadata": {},
   "outputs": [
    {
     "data": {
      "text/plain": [
       "0   2023-06-02\n",
       "1   2023-10-01\n",
       "2   2022-04-25\n",
       "3   2022-01-03\n",
       "4   2018-03-09\n",
       "Name: Fecha, dtype: datetime64[ns]"
      ]
     },
     "execution_count": 8,
     "metadata": {},
     "output_type": "execute_result"
    }
   ],
   "source": [
    "# Verificar la conversión\n",
    "df['Fecha'].head()"
   ]
  },
  {
   "cell_type": "markdown",
   "metadata": {},
   "source": [
    "# 2. Entendimiento de los datos"
   ]
  },
  {
   "cell_type": "markdown",
   "metadata": {},
   "source": [
    "## 2.1 Análisis descriptivo"
   ]
  },
  {
   "cell_type": "markdown",
   "metadata": {},
   "source": [
    "A continuación, se presentan las descripciones de las variables del dataset:"
   ]
  },
  {
   "cell_type": "code",
   "execution_count": 9,
   "metadata": {},
   "outputs": [
    {
     "name": "stdout",
     "output_type": "stream",
     "text": [
      "Información del DataFrame antes de la limpieza:\n",
      "<class 'pandas.core.frame.DataFrame'>\n",
      "RangeIndex: 57063 entries, 0 to 57062\n",
      "Data columns (total 5 columns):\n",
      " #   Column       Non-Null Count  Dtype         \n",
      "---  ------       --------------  -----         \n",
      " 0   ID           57063 non-null  object        \n",
      " 1   Label        57063 non-null  int64         \n",
      " 2   Titulo       57047 non-null  object        \n",
      " 3   Descripcion  57063 non-null  object        \n",
      " 4   Fecha        57063 non-null  datetime64[ns]\n",
      "dtypes: datetime64[ns](1), int64(1), object(3)\n",
      "memory usage: 2.2+ MB\n"
     ]
    }
   ],
   "source": [
    "# Verificar la estructura del DataFrame\n",
    "print(\"Información del DataFrame antes de la limpieza:\")\n",
    "df.info()\n"
   ]
  },
  {
   "cell_type": "markdown",
   "metadata": {},
   "source": [
    "Para la columna de Titulo, se realiza una descripcion de esta variable, se observa que la cantidad de elementos, cuantos son unicos, el titulo más repetido y la frecuencia de este."
   ]
  },
  {
   "cell_type": "code",
   "execution_count": 10,
   "metadata": {},
   "outputs": [
    {
     "data": {
      "text/plain": [
       "count                                                 57047\n",
       "unique                                                51604\n",
       "top       Escándalo de corrupción salpica a líderes sind...\n",
       "freq                                                      6\n",
       "Name: Titulo, dtype: object"
      ]
     },
     "execution_count": 10,
     "metadata": {},
     "output_type": "execute_result"
    }
   ],
   "source": [
    "df[\"Titulo\"].describe()"
   ]
  },
  {
   "cell_type": "markdown",
   "metadata": {},
   "source": [
    "Además, es interesante saber que tan largo son dichos titulos, es decir, respecto a su longitud en caracteres"
   ]
  },
  {
   "cell_type": "code",
   "execution_count": 11,
   "metadata": {},
   "outputs": [
    {
     "data": {
      "text/plain": [
       "count    57047.000000\n",
       "mean        94.795993\n",
       "std         21.826918\n",
       "min         12.000000\n",
       "25%         80.000000\n",
       "50%         95.000000\n",
       "75%        111.000000\n",
       "max        255.000000\n",
       "Name: Titulo, dtype: float64"
      ]
     },
     "execution_count": 11,
     "metadata": {},
     "output_type": "execute_result"
    }
   ],
   "source": [
    "df[\"Titulo\"].dropna().apply(len).describe()"
   ]
  },
  {
   "cell_type": "markdown",
   "metadata": {},
   "source": [
    "En cuanto a los títulos de las noticias, estos tienen una longitud que varía entre 12 y 255 caracteres, con una media de 95 caracteres. El 50% de los títulos tiene 95 caracteres o menos, mientras que el 75% de ellos no supera los 111 caracteres. Esta distribución sugiere que la mayoría de los títulos son relativamente cortos, lo que podría indicar una tendencia hacia titulares concisos y llamativos, una característica común en la difusión de noticias, tanto falsas como verdaderas.\n",
    "\n"
   ]
  },
  {
   "cell_type": "markdown",
   "metadata": {},
   "source": [
    "Para la columna de Descripcion, se realiza una descripcion de esta variable, se observa que la cantidad de elementos, cuantos son unicos, el titulo más repetido y la frecuencia de este."
   ]
  },
  {
   "cell_type": "code",
   "execution_count": 12,
   "metadata": {},
   "outputs": [
    {
     "data": {
      "text/plain": [
       "count                                                 57063\n",
       "unique                                                49638\n",
       "top       La Fundación En Acción ha participado con Públ...\n",
       "freq                                                      7\n",
       "Name: Descripcion, dtype: object"
      ]
     },
     "execution_count": 12,
     "metadata": {},
     "output_type": "execute_result"
    }
   ],
   "source": [
    "df[\"Descripcion\"].describe()"
   ]
  },
  {
   "cell_type": "markdown",
   "metadata": {},
   "source": [
    "Adicionalmente, es interesante saber que tan largos son las descripciones, es decir, su longitud de caracteres."
   ]
  },
  {
   "cell_type": "code",
   "execution_count": 13,
   "metadata": {},
   "outputs": [
    {
     "data": {
      "text/plain": [
       "count    57063.000000\n",
       "mean       243.448697\n",
       "std        273.253727\n",
       "min         33.000000\n",
       "25%        171.000000\n",
       "50%        221.000000\n",
       "75%        267.000000\n",
       "max      14019.000000\n",
       "Name: Descripcion, dtype: float64"
      ]
     },
     "execution_count": 13,
     "metadata": {},
     "output_type": "execute_result"
    }
   ],
   "source": [
    "df[\"Descripcion\"].apply(len).describe()\n"
   ]
  },
  {
   "cell_type": "markdown",
   "metadata": {},
   "source": [
    "Podemos decir que el conjunto de datos analizado, compuesto por noticias tanto falsas como verdaderas, presenta una longitud de descripciones que varía entre 33 y 14,019 caracteres, con una media de 243 caracteres. La mediana de los textos es de 221 caracteres, y el 75% de las noticias no supera los 267 caracteres. Considerando una estimación de 5 caracteres por palabra, esto implica que las noticias en el dataset contienen entre aproximadamente 7 y 2,804 palabras, con un promedio cercano a 49 palabras por noticia.\n",
    "\n",
    "Este análisis sugiere que muchas noticias en el conjunto de datos son relativamente breves, aunque existen algunos casos significativamente más extensos. La variabilidad en la longitud de las descripciones puede influir en el rendimiento de los modelos de clasificación, ya que la cantidad de texto disponible podría afectar la capacidad de identificar patrones y diferencias entre noticias falsas y verdaderas."
   ]
  },
  {
   "cell_type": "markdown",
   "metadata": {},
   "source": [
    "Para la columna de Fecha, se realiza una descripcion de esta variable, se observa que la cantidad de elementos, cuantos son unicos, el titulo, la fecha más repetida y la frecuencia."
   ]
  },
  {
   "cell_type": "markdown",
   "metadata": {},
   "source": [
    "Se evidencia cuantas noticias son falsas y cuantas verídicas, con el fin de confirmar que la columna Label tenga los datos esperados y saber que tan balanceados estan los datos"
   ]
  },
  {
   "cell_type": "code",
   "execution_count": 14,
   "metadata": {},
   "outputs": [
    {
     "data": {
      "text/html": [
       "<div>\n",
       "<style scoped>\n",
       "    .dataframe tbody tr th:only-of-type {\n",
       "        vertical-align: middle;\n",
       "    }\n",
       "\n",
       "    .dataframe tbody tr th {\n",
       "        vertical-align: top;\n",
       "    }\n",
       "\n",
       "    .dataframe thead th {\n",
       "        text-align: right;\n",
       "    }\n",
       "</style>\n",
       "<table border=\"1\" class=\"dataframe\">\n",
       "  <thead>\n",
       "    <tr style=\"text-align: right;\">\n",
       "      <th></th>\n",
       "      <th>Label</th>\n",
       "      <th>Conteo</th>\n",
       "      <th>Porcentaje (%)</th>\n",
       "    </tr>\n",
       "  </thead>\n",
       "  <tbody>\n",
       "    <tr>\n",
       "      <th>0</th>\n",
       "      <td>1</td>\n",
       "      <td>33158</td>\n",
       "      <td>58.107706</td>\n",
       "    </tr>\n",
       "    <tr>\n",
       "      <th>1</th>\n",
       "      <td>0</td>\n",
       "      <td>23905</td>\n",
       "      <td>41.892294</td>\n",
       "    </tr>\n",
       "  </tbody>\n",
       "</table>\n",
       "</div>"
      ],
      "text/plain": [
       "   Label  Conteo  Porcentaje (%)\n",
       "0      1   33158       58.107706\n",
       "1      0   23905       41.892294"
      ]
     },
     "execution_count": 14,
     "metadata": {},
     "output_type": "execute_result"
    }
   ],
   "source": [
    "noticiaFalsaoNo = df[\"Label\"].value_counts()\n",
    "pd.DataFrame({'Label': noticiaFalsaoNo.index, 'Conteo': noticiaFalsaoNo.values, 'Porcentaje (%)': noticiaFalsaoNo.values * 100 / noticiaFalsaoNo.values.sum()}).sort_values(by='Conteo', ascending=False)"
   ]
  },
  {
   "cell_type": "markdown",
   "metadata": {},
   "source": [
    "Entonces, en este dataset se almacenan noticias tanto falsas como verídicas, con una mayor proporción de noticias verídicas (58.1%) frente a falsas (41.9%). "
   ]
  },
  {
   "cell_type": "markdown",
   "metadata": {},
   "source": [
    "## 2.2 Analisis de calidad de datos"
   ]
  },
  {
   "cell_type": "markdown",
   "metadata": {},
   "source": [
    "### 2.2.1 Análisis de completitud"
   ]
  },
  {
   "cell_type": "markdown",
   "metadata": {},
   "source": [
    "Se presentan los porcentajes de completitud para cada columna del dataset"
   ]
  },
  {
   "cell_type": "code",
   "execution_count": 15,
   "metadata": {},
   "outputs": [
    {
     "data": {
      "text/html": [
       "<div>\n",
       "<style scoped>\n",
       "    .dataframe tbody tr th:only-of-type {\n",
       "        vertical-align: middle;\n",
       "    }\n",
       "\n",
       "    .dataframe tbody tr th {\n",
       "        vertical-align: top;\n",
       "    }\n",
       "\n",
       "    .dataframe thead th {\n",
       "        text-align: right;\n",
       "    }\n",
       "</style>\n",
       "<table border=\"1\" class=\"dataframe\">\n",
       "  <thead>\n",
       "    <tr style=\"text-align: right;\">\n",
       "      <th></th>\n",
       "      <th>Atributo</th>\n",
       "      <th>Completitud (%)</th>\n",
       "      <th>Incompletitud (%)</th>\n",
       "    </tr>\n",
       "  </thead>\n",
       "  <tbody>\n",
       "    <tr>\n",
       "      <th>0</th>\n",
       "      <td>Titulo</td>\n",
       "      <td>99.971961</td>\n",
       "      <td>0.028039</td>\n",
       "    </tr>\n",
       "    <tr>\n",
       "      <th>1</th>\n",
       "      <td>ID</td>\n",
       "      <td>100.000000</td>\n",
       "      <td>0.000000</td>\n",
       "    </tr>\n",
       "    <tr>\n",
       "      <th>2</th>\n",
       "      <td>Label</td>\n",
       "      <td>100.000000</td>\n",
       "      <td>0.000000</td>\n",
       "    </tr>\n",
       "    <tr>\n",
       "      <th>3</th>\n",
       "      <td>Descripcion</td>\n",
       "      <td>100.000000</td>\n",
       "      <td>0.000000</td>\n",
       "    </tr>\n",
       "    <tr>\n",
       "      <th>4</th>\n",
       "      <td>Fecha</td>\n",
       "      <td>100.000000</td>\n",
       "      <td>0.000000</td>\n",
       "    </tr>\n",
       "  </tbody>\n",
       "</table>\n",
       "</div>"
      ],
      "text/plain": [
       "      Atributo  Completitud (%)  Incompletitud (%)\n",
       "0       Titulo        99.971961           0.028039\n",
       "1           ID       100.000000           0.000000\n",
       "2        Label       100.000000           0.000000\n",
       "3  Descripcion       100.000000           0.000000\n",
       "4        Fecha       100.000000           0.000000"
      ]
     },
     "execution_count": 15,
     "metadata": {},
     "output_type": "execute_result"
    }
   ],
   "source": [
    "porctIncompletitudAtributo =  (100 * df.isnull().sum() / df.shape[0]).sort_values(ascending=False)\n",
    "pd.DataFrame({\n",
    "    \"Atributo\": porctIncompletitudAtributo.index,\n",
    "    \"Completitud (%)\": 100 - porctIncompletitudAtributo.values,\n",
    "    \"Incompletitud (%)\": porctIncompletitudAtributo.values\n",
    "})"
   ]
  },
  {
   "cell_type": "markdown",
   "metadata": {},
   "source": [
    "Se evidencia cuantos registros nulos hay en cada columna, los cuales seran tratados en la limpieza de datos."
   ]
  },
  {
   "cell_type": "code",
   "execution_count": 16,
   "metadata": {},
   "outputs": [
    {
     "name": "stdout",
     "output_type": "stream",
     "text": [
      "Valores nulos por columna antes de la limpieza:\n"
     ]
    },
    {
     "data": {
      "text/plain": [
       "ID              0\n",
       "Label           0\n",
       "Titulo         16\n",
       "Descripcion     0\n",
       "Fecha           0\n",
       "dtype: int64"
      ]
     },
     "metadata": {},
     "output_type": "display_data"
    }
   ],
   "source": [
    "# Verificar valores nulos\n",
    "print(\"Valores nulos por columna antes de la limpieza:\")\n",
    "display(df.isnull().sum())"
   ]
  },
  {
   "cell_type": "markdown",
   "metadata": {},
   "source": [
    "### 2.2.2. Analisis de unicidad"
   ]
  },
  {
   "cell_type": "markdown",
   "metadata": {},
   "source": [
    "Seguidamente, se buscará determinar cuántas filas duplicadas hay en el dataset"
   ]
  },
  {
   "cell_type": "code",
   "execution_count": 17,
   "metadata": {},
   "outputs": [
    {
     "name": "stdout",
     "output_type": "stream",
     "text": [
      "Filas duplicadas antes de la limpieza: 445\n"
     ]
    }
   ],
   "source": [
    "\n",
    "# Verificar duplicados\n",
    "print(f\"Filas duplicadas antes de la limpieza: {df.duplicated().sum()}\")\n"
   ]
  },
  {
   "cell_type": "markdown",
   "metadata": {},
   "source": [
    "Se evidencia que el porcentaje de datos duplicados es bastante pequeño por lo que se puede considerar elimanrlos cuando se realice la limpieza de datos."
   ]
  },
  {
   "cell_type": "code",
   "execution_count": 18,
   "metadata": {},
   "outputs": [
    {
     "name": "stdout",
     "output_type": "stream",
     "text": [
      "Se cuenta con 445 registros duplicados (0.78%)\n"
     ]
    }
   ],
   "source": [
    "registrosDuplicados = df.duplicated()\n",
    "totalDuplicados = registrosDuplicados.sum()\n",
    "totalNoticias = df.shape[0]\n",
    "porcentajeDuplicados = 100.0 * totalDuplicados / totalNoticias\n",
    "print(f\"Se cuenta con {totalDuplicados} registros duplicados ({porcentajeDuplicados:.2f}%)\")"
   ]
  },
  {
   "cell_type": "code",
   "execution_count": 19,
   "metadata": {},
   "outputs": [
    {
     "name": "stdout",
     "output_type": "stream",
     "text": [
      "Valores únicos en 'Label' antes de la limpieza:\n"
     ]
    },
    {
     "data": {
      "text/plain": [
       "Label\n",
       "1    33158\n",
       "0    23905\n",
       "Name: count, dtype: int64"
      ]
     },
     "metadata": {},
     "output_type": "display_data"
    }
   ],
   "source": [
    "# Verificar valores únicos en la columna 'Label'\n",
    "print(\"Valores únicos en 'Label' antes de la limpieza:\")\n",
    "display(df['Label'].value_counts())\n"
   ]
  },
  {
   "cell_type": "markdown",
   "metadata": {},
   "source": [
    "### 2.2.3 Analisis de validez"
   ]
  },
  {
   "cell_type": "markdown",
   "metadata": {},
   "source": [
    "Dado que los datos corresponden a textos y, solo existen ciertos recursos nulos que pueden ser eliminados, la variable contiene únicamente datos válidos dentro del contexto del análisis. Además, como se mencionó al inicio de esta sección, se observan únicamente las dos clasificaciones esperadas: 0 para noticias falsas y 1 para noticias verídicas. Por lo tanto, no hay valores distintos de 0 y 1 en el conjunto de datos, lo que confirma la integridad de esta variable. A continuación, se verifica esta información:"
   ]
  },
  {
   "cell_type": "code",
   "execution_count": 20,
   "metadata": {},
   "outputs": [
    {
     "data": {
      "text/html": [
       "<div>\n",
       "<style scoped>\n",
       "    .dataframe tbody tr th:only-of-type {\n",
       "        vertical-align: middle;\n",
       "    }\n",
       "\n",
       "    .dataframe tbody tr th {\n",
       "        vertical-align: top;\n",
       "    }\n",
       "\n",
       "    .dataframe thead th {\n",
       "        text-align: right;\n",
       "    }\n",
       "</style>\n",
       "<table border=\"1\" class=\"dataframe\">\n",
       "  <thead>\n",
       "    <tr style=\"text-align: right;\">\n",
       "      <th></th>\n",
       "      <th>Label unicos</th>\n",
       "    </tr>\n",
       "  </thead>\n",
       "  <tbody>\n",
       "    <tr>\n",
       "      <th>0</th>\n",
       "      <td>1</td>\n",
       "    </tr>\n",
       "    <tr>\n",
       "      <th>1</th>\n",
       "      <td>0</td>\n",
       "    </tr>\n",
       "  </tbody>\n",
       "</table>\n",
       "</div>"
      ],
      "text/plain": [
       "   Label unicos\n",
       "0             1\n",
       "1             0"
      ]
     },
     "execution_count": 20,
     "metadata": {},
     "output_type": "execute_result"
    }
   ],
   "source": [
    "pd.DataFrame(df[\"Label\"].unique(), columns=[\"Label unicos\"])"
   ]
  },
  {
   "cell_type": "markdown",
   "metadata": {},
   "source": [
    "Se verifica que no existan fechas futuras en el dataset, ya que esto no tendría sentido en el contexto de las noticias. Además, estas fechas deben estar dentro de un rango temporal lógico."
   ]
  },
  {
   "cell_type": "code",
   "execution_count": 21,
   "metadata": {},
   "outputs": [
    {
     "name": "stdout",
     "output_type": "stream",
     "text": [
      "2016-01-02 00:00:00 2024-12-28 00:00:00\n"
     ]
    }
   ],
   "source": [
    "print(df[\"Fecha\"].min(), df[\"Fecha\"].max())  # Verifica la fecha más antigua y más reciente\n"
   ]
  },
  {
   "cell_type": "markdown",
   "metadata": {},
   "source": [
    "El rango de fechas (2016-2024) es coherente para un conjunto de noticias recientes, abarcando un periodo relevante para el análisis. No se observan fechas atípicas fuera de un intervalo lógico, lo que sugiere que los datos son válidos en este aspecto.\n",
    "\n",
    "\n",
    "\n",
    "\n",
    "\n",
    "\n",
    "\n"
   ]
  },
  {
   "cell_type": "markdown",
   "metadata": {},
   "source": [
    "### 2.2.4 Análisis de consistencia"
   ]
  },
  {
   "cell_type": "markdown",
   "metadata": {},
   "source": [
    "Debido a la naturaleza del dataset, no se observan problemas de consistencia en las columnas. Los datos consisten en textos en lenguaje natural, y la clasificación de las noticias como falsas o verídicas ha sido revisada, asegurando que no haya valores fuera de las categorías esperadas (0 y 1)."
   ]
  },
  {
   "cell_type": "markdown",
   "metadata": {},
   "source": [
    "## 3. Preparación de datos"
   ]
  },
  {
   "cell_type": "markdown",
   "metadata": {},
   "source": [
    "### 3.1 Eliminacion de duplicados"
   ]
  },
  {
   "cell_type": "markdown",
   "metadata": {},
   "source": [
    "Solucionar las filas duplicadas, debido a que es un porcentaje muy pequeño, se decide eliminarlos."
   ]
  },
  {
   "cell_type": "code",
   "execution_count": 22,
   "metadata": {},
   "outputs": [
    {
     "name": "stdout",
     "output_type": "stream",
     "text": [
      "Eliminando 445 filas duplicadas...\n"
     ]
    }
   ],
   "source": [
    "# 1. Eliminación de filas duplicadas\n",
    "duplicates = df.duplicated().sum()\n",
    "if duplicates > 0:\n",
    "    print(f\"Eliminando {duplicates} filas duplicadas...\")\n",
    "    df.drop_duplicates(inplace=True)"
   ]
  },
  {
   "cell_type": "markdown",
   "metadata": {},
   "source": [
    "### 3.2 Tratamiento de valores nulos"
   ]
  },
  {
   "cell_type": "markdown",
   "metadata": {},
   "source": [
    "De nuevo, como la cantidad de datos nulos es muy pequeña, y es sobre los titulos (donde no tiene mucho sentido colocarle el titulo más repetido de las diferentes noticias), se decide eliminarlos."
   ]
  },
  {
   "cell_type": "code",
   "execution_count": 23,
   "metadata": {},
   "outputs": [],
   "source": [
    "# 2. Manejo de valores nulos en columnas esenciales\n",
    "df.dropna(subset=['Label', 'Titulo', 'Descripcion', 'Fecha'], inplace=True)\n"
   ]
  },
  {
   "cell_type": "code",
   "execution_count": 24,
   "metadata": {},
   "outputs": [
    {
     "data": {
      "text/plain": [
       "ID             0\n",
       "Label          0\n",
       "Titulo         0\n",
       "Descripcion    0\n",
       "Fecha          0\n",
       "dtype: int64"
      ]
     },
     "execution_count": 24,
     "metadata": {},
     "output_type": "execute_result"
    }
   ],
   "source": [
    "# Verificación final de valores nulos\n",
    "df.isnull().sum()"
   ]
  },
  {
   "cell_type": "markdown",
   "metadata": {},
   "source": [
    "### 3.3 Normalizacion de columnas"
   ]
  },
  {
   "cell_type": "code",
   "execution_count": 25,
   "metadata": {},
   "outputs": [],
   "source": [
    "# 3. Normalización de columnas: eliminar espacios extra\n",
    "df.columns = df.columns.str.strip()\n"
   ]
  },
  {
   "cell_type": "markdown",
   "metadata": {},
   "source": [
    "### 3.4 Procesamiento de texto"
   ]
  },
  {
   "cell_type": "markdown",
   "metadata": {},
   "source": [
    "Ahora es el momento de procesar la columna de textos en español para que sea adecuada para su uso en un algoritmo de clasificación."
   ]
  },
  {
   "cell_type": "code",
   "execution_count": 27,
   "metadata": {},
   "outputs": [
    {
     "name": "stderr",
     "output_type": "stream",
     "text": [
      "[nltk_data] Downloading package stopwords to\n",
      "[nltk_data]     /Users/nataliavillegas/nltk_data...\n",
      "[nltk_data]   Package stopwords is already up-to-date!\n",
      "[nltk_data] Downloading package punkt to\n",
      "[nltk_data]     /Users/nataliavillegas/nltk_data...\n",
      "[nltk_data]   Package punkt is already up-to-date!\n",
      "[nltk_data] Downloading package wordnet to\n",
      "[nltk_data]     /Users/nataliavillegas/nltk_data...\n",
      "[nltk_data]   Package wordnet is already up-to-date!\n",
      "[nltk_data] Downloading package omw-1.4 to\n",
      "[nltk_data]     /Users/nataliavillegas/nltk_data...\n",
      "[nltk_data]   Package omw-1.4 is already up-to-date!\n",
      "[nltk_data] Downloading package punkt_tab to\n",
      "[nltk_data]     /Users/nataliavillegas/nltk_data...\n",
      "[nltk_data]   Unzipping tokenizers/punkt_tab.zip.\n"
     ]
    },
    {
     "data": {
      "text/plain": [
       "True"
      ]
     },
     "execution_count": 27,
     "metadata": {},
     "output_type": "execute_result"
    }
   ],
   "source": [
    "# Descargar el conjunto de palabras de parada (stopwords) de nltk\n",
    "nltk.download('stopwords')\n",
    "\n",
    "# Descargar el tokenizer preentrenado 'punkt' para dividir texto en oraciones y palabras\n",
    "nltk.download('punkt')\n",
    "\n",
    "# Descargar el léxico WordNet para la lematización y otras tareas léxicas\n",
    "nltk.download('wordnet')\n",
    "\n",
    "# Descargar el Open Multilingual Wordnet (OMW) para soporte multilingüe en WordNet\n",
    "nltk.download('omw-1.4')\n",
    "\n",
    "# Descargar esta liberaria para realizar la tokenización de texto\n",
    "nltk.download('punkt_tab')"
   ]
  },
  {
   "cell_type": "markdown",
   "metadata": {},
   "source": [
    "Se definen las siguientes funciones para hacer limpieza, preprocesamiento y procesamiento de los textos:"
   ]
  },
  {
   "cell_type": "code",
   "execution_count": 28,
   "metadata": {},
   "outputs": [],
   "source": [
    "def aMinusculas(palabras):\n",
    "    return [palabra.lower() for palabra in palabras]\n",
    "\n",
    "def eliminarNumeros(palabras):\n",
    "    return [re.sub(r'\\d+', '', palabra) for palabra in palabras]\n",
    "\n",
    "def eliminarPuntuacion(palabras):\n",
    "    return [palabra for palabra in palabras if palabra not in string.punctuation]\n",
    "\n",
    "def removerNoAscii(palabras):\n",
    "    return [palabra for palabra in palabras if palabra.isascii()]\n",
    "\n",
    "def eliminarStopwords(palabras):\n",
    "    sw = set(stopwords.words('spanish'))\n",
    "    return [palabra for palabra in palabras if palabra not in sw]\n",
    "\n",
    "def aplicarStemmingYLematizacion(palabras):\n",
    "    # Evidenciamos que brinda mejores resultados que PorterStemmer para español\n",
    "    stemmer = SnowballStemmer('spanish')\n",
    "    lemmatizer = WordNetLemmatizer()\n",
    "    return [lemmatizer.lemmatize(stemmer.stem(palabra)) for palabra in palabras]\n",
    "\n",
    "def preprocesar(palabras):\n",
    "    palabras = aMinusculas(palabras)\n",
    "    palabras = eliminarNumeros(palabras)\n",
    "    palabras = eliminarPuntuacion(palabras)\n",
    "    palabras = removerNoAscii(palabras)\n",
    "    palabras = eliminarStopwords(palabras)\n",
    "    return palabras\n",
    "\n",
    "def procesar(texto):\n",
    "    texto = contractions.fix(texto)\n",
    "    palabras = word_tokenize(texto)\n",
    "    palabras = preprocesar(palabras)\n",
    "    palabras = aplicarStemmingYLematizacion(palabras)\n",
    "    return ' '.join(palabras)"
   ]
  },
  {
   "cell_type": "code",
   "execution_count": 29,
   "metadata": {},
   "outputs": [
    {
     "data": {
      "text/html": [
       "<div>\n",
       "<style scoped>\n",
       "    .dataframe tbody tr th:only-of-type {\n",
       "        vertical-align: middle;\n",
       "    }\n",
       "\n",
       "    .dataframe tbody tr th {\n",
       "        vertical-align: top;\n",
       "    }\n",
       "\n",
       "    .dataframe thead th {\n",
       "        text-align: right;\n",
       "    }\n",
       "</style>\n",
       "<table border=\"1\" class=\"dataframe\">\n",
       "  <thead>\n",
       "    <tr style=\"text-align: right;\">\n",
       "      <th></th>\n",
       "      <th>ID</th>\n",
       "      <th>Label</th>\n",
       "      <th>Titulo</th>\n",
       "      <th>Descripcion</th>\n",
       "      <th>Fecha</th>\n",
       "    </tr>\n",
       "  </thead>\n",
       "  <tbody>\n",
       "    <tr>\n",
       "      <th>0</th>\n",
       "      <td>ID</td>\n",
       "      <td>1</td>\n",
       "      <td>'the guardi va 'europ necesit apuest frut</td>\n",
       "      <td>diari pa juev editorial eleccion j calif valie...</td>\n",
       "      <td>2023-06-02</td>\n",
       "    </tr>\n",
       "    <tr>\n",
       "      <th>1</th>\n",
       "      <td>ID</td>\n",
       "      <td>0</td>\n",
       "      <td>revel gobiern negoci mirel cambi otorg javi duart</td>\n",
       "      <td>revel gobiern negoci mirel cambi otorg javi du...</td>\n",
       "      <td>2023-10-01</td>\n",
       "    </tr>\n",
       "    <tr>\n",
       "      <th>2</th>\n",
       "      <td>ID</td>\n",
       "      <td>1</td>\n",
       "      <td>'ahor nunc joan fust estatut valencian cumpl</td>\n",
       "      <td>valencian convoc fiest grand aplec plaz tor ca...</td>\n",
       "      <td>2022-04-25</td>\n",
       "    </tr>\n",
       "    <tr>\n",
       "      <th>3</th>\n",
       "      <td>ID</td>\n",
       "      <td>1</td>\n",
       "      <td>iglesi alient yoland erc eh bildu negoci 'rear...</td>\n",
       "      <td>igual negoci empresari negoci grup parlamentar...</td>\n",
       "      <td>2022-01-03</td>\n",
       "    </tr>\n",
       "    <tr>\n",
       "      <th>4</th>\n",
       "      <td>ID</td>\n",
       "      <td>0</td>\n",
       "      <td>puigdemont 'no ningun tragedi eleccion</td>\n",
       "      <td>entrev punt avui jxcat desdramatiz posibl esce...</td>\n",
       "      <td>2018-03-09</td>\n",
       "    </tr>\n",
       "  </tbody>\n",
       "</table>\n",
       "</div>"
      ],
      "text/plain": [
       "   ID  Label                                             Titulo  \\\n",
       "0  ID      1          'the guardi va 'europ necesit apuest frut   \n",
       "1  ID      0  revel gobiern negoci mirel cambi otorg javi duart   \n",
       "2  ID      1       'ahor nunc joan fust estatut valencian cumpl   \n",
       "3  ID      1  iglesi alient yoland erc eh bildu negoci 'rear...   \n",
       "4  ID      0             puigdemont 'no ningun tragedi eleccion   \n",
       "\n",
       "                                         Descripcion      Fecha  \n",
       "0  diari pa juev editorial eleccion j calif valie... 2023-06-02  \n",
       "1  revel gobiern negoci mirel cambi otorg javi du... 2023-10-01  \n",
       "2  valencian convoc fiest grand aplec plaz tor ca... 2022-04-25  \n",
       "3  igual negoci empresari negoci grup parlamentar... 2022-01-03  \n",
       "4  entrev punt avui jxcat desdramatiz posibl esce... 2018-03-09  "
      ]
     },
     "execution_count": 29,
     "metadata": {},
     "output_type": "execute_result"
    }
   ],
   "source": [
    "df_procesado = df.copy()\n",
    "df_procesado['Titulo'] = df_procesado['Titulo'].apply(procesar)\n",
    "df_procesado['Descripcion'] = df_procesado['Descripcion'].apply(procesar)\n",
    "df_procesado.head()"
   ]
  },
  {
   "cell_type": "markdown",
   "metadata": {},
   "source": [
    "### 3.5 Limpieza del texto de las columnas"
   ]
  },
  {
   "cell_type": "code",
   "execution_count": 30,
   "metadata": {},
   "outputs": [],
   "source": [
    "# 4. Limpiar texto de columnas de texto (Titulo y Descripcion)\n",
    "def clean_text(text):\n",
    "    if isinstance(text, str):\n",
    "        text = re.sub(r'[^a-zA-ZáéíóúÁÉÍÓÚñÑ0-9.,;:\\\"\\'\\s]', '', text)  # Eliminar caracteres extraños\n",
    "        text = re.sub(r'\\s+', ' ', text).strip()  # Espacios extra\n",
    "    return text\n",
    "\n",
    "df['Titulo'] = df['Titulo'].apply(clean_text)\n",
    "df['Descripcion'] = df['Descripcion'].apply(clean_text)\n"
   ]
  },
  {
   "cell_type": "markdown",
   "metadata": {},
   "source": [
    "## Exploracion de datos"
   ]
  },
  {
   "cell_type": "code",
   "execution_count": 31,
   "metadata": {},
   "outputs": [
    {
     "name": "stderr",
     "output_type": "stream",
     "text": [
      "/var/folders/lb/6vdrbbsj6mjgyd4k3jj3x65w0000gn/T/ipykernel_5832/313128623.py:3: FutureWarning: \n",
      "\n",
      "Passing `palette` without assigning `hue` is deprecated and will be removed in v0.14.0. Assign the `x` variable to `hue` and set `legend=False` for the same effect.\n",
      "\n",
      "  sns.countplot(x=df['Label'], palette='RdPu')\n"
     ]
    },
    {
     "data": {
      "image/png": "[encoded data removed]",
      "text/plain": [
       "<Figure size 600x400 with 1 Axes>"
      ]
     },
     "metadata": {},
     "output_type": "display_data"
    }
   ],
   "source": [
    "# Distribución de noticias falsas y verdaderas\n",
    "plt.figure(figsize=(6,4))\n",
    "sns.countplot(x=df['Label'], palette='RdPu')\n",
    "plt.title('Distribución de Noticias Falsas y Verdaderas')\n",
    "plt.xlabel('Etiqueta (0: Verdadera, 1: Falsa)')\n",
    "plt.ylabel('Cantidad')\n",
    "plt.show()"
   ]
  },
  {
   "cell_type": "code",
   "execution_count": 32,
   "metadata": {},
   "outputs": [
    {
     "data": {
      "image/png": "[encoded data removed]",
      "text/plain": [
       "<Figure size 1200x500 with 1 Axes>"
      ]
     },
     "metadata": {},
     "output_type": "display_data"
    },
    {
     "data": {
      "image/png": "[encoded data removed]",
      "text/plain": [
       "<Figure size 1200x500 with 1 Axes>"
      ]
     },
     "metadata": {},
     "output_type": "display_data"
    }
   ],
   "source": [
    "# Longitud del texto en títulos y descripciones\n",
    "df['Titulo_Longitud'] = df['Titulo'].apply(lambda x: len(str(x).split()))\n",
    "df['Descripcion_Longitud'] = df['Descripcion'].apply(lambda x: len(str(x).split()))\n",
    "plt.figure(figsize=(12, 5))\n",
    "sns.histplot(df['Titulo_Longitud'], bins=30, kde=True, color='purple')\n",
    "plt.title('Distribución de la Longitud de los Títulos')\n",
    "plt.xlabel('Número de Palabras')\n",
    "plt.ylabel('Frecuencia')\n",
    "plt.show()\n",
    "\n",
    "plt.figure(figsize=(12, 5))\n",
    "sns.histplot(df['Descripcion_Longitud'], bins=30, kde=True, color='darkred')\n",
    "plt.title('Distribución de la Longitud de las Descripciones')\n",
    "plt.xlabel('Número de Palabras')\n",
    "plt.ylabel('Frecuencia')\n",
    "plt.show()\n"
   ]
  },
  {
   "cell_type": "code",
   "execution_count": 33,
   "metadata": {},
   "outputs": [
    {
     "name": "stderr",
     "output_type": "stream",
     "text": [
      "/var/folders/lb/6vdrbbsj6mjgyd4k3jj3x65w0000gn/T/ipykernel_5832/2791150674.py:6: FutureWarning: \n",
      "\n",
      "Passing `palette` without assigning `hue` is deprecated and will be removed in v0.14.0. Assign the `x` variable to `hue` and set `legend=False` for the same effect.\n",
      "\n",
      "  sns.countplot(x=df['Año'], palette='RdPu')\n"
     ]
    },
    {
     "data": {
      "image/png": "[encoded data removed]",
      "text/plain": [
       "<Figure size 1200x500 with 1 Axes>"
      ]
     },
     "metadata": {},
     "output_type": "display_data"
    },
    {
     "name": "stderr",
     "output_type": "stream",
     "text": [
      "/var/folders/lb/6vdrbbsj6mjgyd4k3jj3x65w0000gn/T/ipykernel_5832/2791150674.py:14: FutureWarning: \n",
      "\n",
      "Passing `palette` without assigning `hue` is deprecated and will be removed in v0.14.0. Assign the `x` variable to `hue` and set `legend=False` for the same effect.\n",
      "\n",
      "  sns.countplot(x=df['Mes'], palette='RdPu')\n"
     ]
    },
    {
     "data": {
      "image/png": "[encoded data removed]",
      "text/plain": [
       "<Figure size 1200x500 with 1 Axes>"
      ]
     },
     "metadata": {},
     "output_type": "display_data"
    }
   ],
   "source": [
    "# Análisis de fechas\n",
    "if pd.api.types.is_datetime64_any_dtype(df['Fecha']):\n",
    "    df['Año'] = df['Fecha'].dt.year\n",
    "    df['Mes'] = df['Fecha'].dt.month\n",
    "    plt.figure(figsize=(12, 5))\n",
    "    sns.countplot(x=df['Año'], palette='RdPu')\n",
    "    plt.title('Cantidad de Noticias por Año')\n",
    "    plt.xlabel('Año')\n",
    "    plt.ylabel('Cantidad')\n",
    "    plt.xticks(rotation=45)\n",
    "    plt.show()\n",
    "\n",
    "    plt.figure(figsize=(12, 5))\n",
    "    sns.countplot(x=df['Mes'], palette='RdPu')\n",
    "    plt.title('Cantidad de Noticias por Mes')\n",
    "    plt.xlabel('Mes')\n",
    "    plt.ylabel('Cantidad')\n",
    "    plt.xticks(rotation=45)\n",
    "    plt.show()\n"
   ]
  },
  {
   "cell_type": "markdown",
   "metadata": {},
   "source": [
    "## Modelos de Clasificacion"
   ]
  },
  {
   "cell_type": "markdown",
   "metadata": {},
   "source": [
    "## 1. Random Forest"
   ]
  },
  {
   "cell_type": "code",
   "execution_count": 34,
   "metadata": {},
   "outputs": [],
   "source": [
    "# Vectorización de texto\n",
    "# Vectorización de texto\n",
    "vectorizer = TfidfVectorizer(max_features=5000)\n",
    "X = vectorizer.fit_transform(df['Titulo'] + ' ' + df['Descripcion'])\n",
    "y = df['Label']\n"
   ]
  },
  {
   "cell_type": "code",
   "execution_count": 35,
   "metadata": {},
   "outputs": [],
   "source": [
    "# Dividir en conjunto de entrenamiento y prueba\n",
    "X_train, X_test, y_train, y_test = train_test_split(X, y, test_size=0.2, random_state=42)\n"
   ]
  },
  {
   "cell_type": "code",
   "execution_count": 36,
   "metadata": {},
   "outputs": [
    {
     "data": {
      "text/html": [
       "<style>#sk-container-id-1 {\n",
       "  /* Definition of color scheme common for light and dark mode */\n",
       "  --sklearn-color-text: black;\n",
       "  --sklearn-color-line: gray;\n",
       "  /* Definition of color scheme for unfitted estimators */\n",
       "  --sklearn-color-unfitted-level-0: #fff5e6;\n",
       "  --sklearn-color-unfitted-level-1: #f6e4d2;\n",
       "  --sklearn-color-unfitted-level-2: #ffe0b3;\n",
       "  --sklearn-color-unfitted-level-3: chocolate;\n",
       "  /* Definition of color scheme for fitted estimators */\n",
       "  --sklearn-color-fitted-level-0: #f0f8ff;\n",
       "  --sklearn-color-fitted-level-1: #d4ebff;\n",
       "  --sklearn-color-fitted-level-2: #b3dbfd;\n",
       "  --sklearn-color-fitted-level-3: cornflowerblue;\n",
       "\n",
       "  /* Specific color for light theme */\n",
       "  --sklearn-color-text-on-default-background: var(--sg-text-color, var(--theme-code-foreground, var(--jp-content-font-color1, black)));\n",
       "  --sklearn-color-background: var(--sg-background-color, var(--theme-background, var(--jp-layout-color0, white)));\n",
       "  --sklearn-color-border-box: var(--sg-text-color, var(--theme-code-foreground, var(--jp-content-font-color1, black)));\n",
       "  --sklearn-color-icon: #696969;\n",
       "\n",
       "  @media (prefers-color-scheme: dark) {\n",
       "    /* Redefinition of color scheme for dark theme */\n",
       "    --sklearn-color-text-on-default-background: var(--sg-text-color, var(--theme-code-foreground, var(--jp-content-font-color1, white)));\n",
       "    --sklearn-color-background: var(--sg-background-color, var(--theme-background, var(--jp-layout-color0, #111)));\n",
       "    --sklearn-color-border-box: var(--sg-text-color, var(--theme-code-foreground, var(--jp-content-font-color1, white)));\n",
       "    --sklearn-color-icon: #878787;\n",
       "  }\n",
       "}\n",
       "\n",
       "#sk-container-id-1 {\n",
       "  color: var(--sklearn-color-text);\n",
       "}\n",
       "\n",
       "#sk-container-id-1 pre {\n",
       "  padding: 0;\n",
       "}\n",
       "\n",
       "#sk-container-id-1 input.sk-hidden--visually {\n",
       "  border: 0;\n",
       "  clip: rect(1px 1px 1px 1px);\n",
       "  clip: rect(1px, 1px, 1px, 1px);\n",
       "  height: 1px;\n",
       "  margin: -1px;\n",
       "  overflow: hidden;\n",
       "  padding: 0;\n",
       "  position: absolute;\n",
       "  width: 1px;\n",
       "}\n",
       "\n",
       "#sk-container-id-1 div.sk-dashed-wrapped {\n",
       "  border: 1px dashed var(--sklearn-color-line);\n",
       "  margin: 0 0.4em 0.5em 0.4em;\n",
       "  box-sizing: border-box;\n",
       "  padding-bottom: 0.4em;\n",
       "  background-color: var(--sklearn-color-background);\n",
       "}\n",
       "\n",
       "#sk-container-id-1 div.sk-container {\n",
       "  /* jupyter's `normalize.less` sets `[hidden] { display: none; }`\n",
       "     but bootstrap.min.css set `[hidden] { display: none !important; }`\n",
       "     so we also need the `!important` here to be able to override the\n",
       "     default hidden behavior on the sphinx rendered scikit-learn.org.\n",
       "     See: https://github.com/scikit-learn/scikit-learn/issues/21755 */\n",
       "  display: inline-block !important;\n",
       "  position: relative;\n",
       "}\n",
       "\n",
       "#sk-container-id-1 div.sk-text-repr-fallback {\n",
       "  display: none;\n",
       "}\n",
       "\n",
       "div.sk-parallel-item,\n",
       "div.sk-serial,\n",
       "div.sk-item {\n",
       "  /* draw centered vertical line to link estimators */\n",
       "  background-image: linear-gradient(var(--sklearn-color-text-on-default-background), var(--sklearn-color-text-on-default-background));\n",
       "  background-size: 2px 100%;\n",
       "  background-repeat: no-repeat;\n",
       "  background-position: center center;\n",
       "}\n",
       "\n",
       "/* Parallel-specific style estimator block */\n",
       "\n",
       "#sk-container-id-1 div.sk-parallel-item::after {\n",
       "  content: \"\";\n",
       "  width: 100%;\n",
       "  border-bottom: 2px solid var(--sklearn-color-text-on-default-background);\n",
       "  flex-grow: 1;\n",
       "}\n",
       "\n",
       "#sk-container-id-1 div.sk-parallel {\n",
       "  display: flex;\n",
       "  align-items: stretch;\n",
       "  justify-content: center;\n",
       "  background-color: var(--sklearn-color-background);\n",
       "  position: relative;\n",
       "}\n",
       "\n",
       "#sk-container-id-1 div.sk-parallel-item {\n",
       "  display: flex;\n",
       "  flex-direction: column;\n",
       "}\n",
       "\n",
       "#sk-container-id-1 div.sk-parallel-item:first-child::after {\n",
       "  align-self: flex-end;\n",
       "  width: 50%;\n",
       "}\n",
       "\n",
       "#sk-container-id-1 div.sk-parallel-item:last-child::after {\n",
       "  align-self: flex-start;\n",
       "  width: 50%;\n",
       "}\n",
       "\n",
       "#sk-container-id-1 div.sk-parallel-item:only-child::after {\n",
       "  width: 0;\n",
       "}\n",
       "\n",
       "/* Serial-specific style estimator block */\n",
       "\n",
       "#sk-container-id-1 div.sk-serial {\n",
       "  display: flex;\n",
       "  flex-direction: column;\n",
       "  align-items: center;\n",
       "  background-color: var(--sklearn-color-background);\n",
       "  padding-right: 1em;\n",
       "  padding-left: 1em;\n",
       "}\n",
       "\n",
       "\n",
       "/* Toggleable style: style used for estimator/Pipeline/ColumnTransformer box that is\n",
       "clickable and can be expanded/collapsed.\n",
       "- Pipeline and ColumnTransformer use this feature and define the default style\n",
       "- Estimators will overwrite some part of the style using the `sk-estimator` class\n",
       "*/\n",
       "\n",
       "/* Pipeline and ColumnTransformer style (default) */\n",
       "\n",
       "#sk-container-id-1 div.sk-toggleable {\n",
       "  /* Default theme specific background. It is overwritten whether we have a\n",
       "  specific estimator or a Pipeline/ColumnTransformer */\n",
       "  background-color: var(--sklearn-color-background);\n",
       "}\n",
       "\n",
       "/* Toggleable label */\n",
       "#sk-container-id-1 label.sk-toggleable__label {\n",
       "  cursor: pointer;\n",
       "  display: block;\n",
       "  width: 100%;\n",
       "  margin-bottom: 0;\n",
       "  padding: 0.5em;\n",
       "  box-sizing: border-box;\n",
       "  text-align: center;\n",
       "}\n",
       "\n",
       "#sk-container-id-1 label.sk-toggleable__label-arrow:before {\n",
       "  /* Arrow on the left of the label */\n",
       "  content: \"▸\";\n",
       "  float: left;\n",
       "  margin-right: 0.25em;\n",
       "  color: var(--sklearn-color-icon);\n",
       "}\n",
       "\n",
       "#sk-container-id-1 label.sk-toggleable__label-arrow:hover:before {\n",
       "  color: var(--sklearn-color-text);\n",
       "}\n",
       "\n",
       "/* Toggleable content - dropdown */\n",
       "\n",
       "#sk-container-id-1 div.sk-toggleable__content {\n",
       "  max-height: 0;\n",
       "  max-width: 0;\n",
       "  overflow: hidden;\n",
       "  text-align: left;\n",
       "  /* unfitted */\n",
       "  background-color: var(--sklearn-color-unfitted-level-0);\n",
       "}\n",
       "\n",
       "#sk-container-id-1 div.sk-toggleable__content.fitted {\n",
       "  /* fitted */\n",
       "  background-color: var(--sklearn-color-fitted-level-0);\n",
       "}\n",
       "\n",
       "#sk-container-id-1 div.sk-toggleable__content pre {\n",
       "  margin: 0.2em;\n",
       "  border-radius: 0.25em;\n",
       "  color: var(--sklearn-color-text);\n",
       "  /* unfitted */\n",
       "  background-color: var(--sklearn-color-unfitted-level-0);\n",
       "}\n",
       "\n",
       "#sk-container-id-1 div.sk-toggleable__content.fitted pre {\n",
       "  /* unfitted */\n",
       "  background-color: var(--sklearn-color-fitted-level-0);\n",
       "}\n",
       "\n",
       "#sk-container-id-1 input.sk-toggleable__control:checked~div.sk-toggleable__content {\n",
       "  /* Expand drop-down */\n",
       "  max-height: 200px;\n",
       "  max-width: 100%;\n",
       "  overflow: auto;\n",
       "}\n",
       "\n",
       "#sk-container-id-1 input.sk-toggleable__control:checked~label.sk-toggleable__label-arrow:before {\n",
       "  content: \"▾\";\n",
       "}\n",
       "\n",
       "/* Pipeline/ColumnTransformer-specific style */\n",
       "\n",
       "#sk-container-id-1 div.sk-label input.sk-toggleable__control:checked~label.sk-toggleable__label {\n",
       "  color: var(--sklearn-color-text);\n",
       "  background-color: var(--sklearn-color-unfitted-level-2);\n",
       "}\n",
       "\n",
       "#sk-container-id-1 div.sk-label.fitted input.sk-toggleable__control:checked~label.sk-toggleable__label {\n",
       "  background-color: var(--sklearn-color-fitted-level-2);\n",
       "}\n",
       "\n",
       "/* Estimator-specific style */\n",
       "\n",
       "/* Colorize estimator box */\n",
       "#sk-container-id-1 div.sk-estimator input.sk-toggleable__control:checked~label.sk-toggleable__label {\n",
       "  /* unfitted */\n",
       "  background-color: var(--sklearn-color-unfitted-level-2);\n",
       "}\n",
       "\n",
       "#sk-container-id-1 div.sk-estimator.fitted input.sk-toggleable__control:checked~label.sk-toggleable__label {\n",
       "  /* fitted */\n",
       "  background-color: var(--sklearn-color-fitted-level-2);\n",
       "}\n",
       "\n",
       "#sk-container-id-1 div.sk-label label.sk-toggleable__label,\n",
       "#sk-container-id-1 div.sk-label label {\n",
       "  /* The background is the default theme color */\n",
       "  color: var(--sklearn-color-text-on-default-background);\n",
       "}\n",
       "\n",
       "/* On hover, darken the color of the background */\n",
       "#sk-container-id-1 div.sk-label:hover label.sk-toggleable__label {\n",
       "  color: var(--sklearn-color-text);\n",
       "  background-color: var(--sklearn-color-unfitted-level-2);\n",
       "}\n",
       "\n",
       "/* Label box, darken color on hover, fitted */\n",
       "#sk-container-id-1 div.sk-label.fitted:hover label.sk-toggleable__label.fitted {\n",
       "  color: var(--sklearn-color-text);\n",
       "  background-color: var(--sklearn-color-fitted-level-2);\n",
       "}\n",
       "\n",
       "/* Estimator label */\n",
       "\n",
       "#sk-container-id-1 div.sk-label label {\n",
       "  font-family: monospace;\n",
       "  font-weight: bold;\n",
       "  display: inline-block;\n",
       "  line-height: 1.2em;\n",
       "}\n",
       "\n",
       "#sk-container-id-1 div.sk-label-container {\n",
       "  text-align: center;\n",
       "}\n",
       "\n",
       "/* Estimator-specific */\n",
       "#sk-container-id-1 div.sk-estimator {\n",
       "  font-family: monospace;\n",
       "  border: 1px dotted var(--sklearn-color-border-box);\n",
       "  border-radius: 0.25em;\n",
       "  box-sizing: border-box;\n",
       "  margin-bottom: 0.5em;\n",
       "  /* unfitted */\n",
       "  background-color: var(--sklearn-color-unfitted-level-0);\n",
       "}\n",
       "\n",
       "#sk-container-id-1 div.sk-estimator.fitted {\n",
       "  /* fitted */\n",
       "  background-color: var(--sklearn-color-fitted-level-0);\n",
       "}\n",
       "\n",
       "/* on hover */\n",
       "#sk-container-id-1 div.sk-estimator:hover {\n",
       "  /* unfitted */\n",
       "  background-color: var(--sklearn-color-unfitted-level-2);\n",
       "}\n",
       "\n",
       "#sk-container-id-1 div.sk-estimator.fitted:hover {\n",
       "  /* fitted */\n",
       "  background-color: var(--sklearn-color-fitted-level-2);\n",
       "}\n",
       "\n",
       "/* Specification for estimator info (e.g. \"i\" and \"?\") */\n",
       "\n",
       "/* Common style for \"i\" and \"?\" */\n",
       "\n",
       ".sk-estimator-doc-link,\n",
       "a:link.sk-estimator-doc-link,\n",
       "a:visited.sk-estimator-doc-link {\n",
       "  float: right;\n",
       "  font-size: smaller;\n",
       "  line-height: 1em;\n",
       "  font-family: monospace;\n",
       "  background-color: var(--sklearn-color-background);\n",
       "  border-radius: 1em;\n",
       "  height: 1em;\n",
       "  width: 1em;\n",
       "  text-decoration: none !important;\n",
       "  margin-left: 1ex;\n",
       "  /* unfitted */\n",
       "  border: var(--sklearn-color-unfitted-level-1) 1pt solid;\n",
       "  color: var(--sklearn-color-unfitted-level-1);\n",
       "}\n",
       "\n",
       ".sk-estimator-doc-link.fitted,\n",
       "a:link.sk-estimator-doc-link.fitted,\n",
       "a:visited.sk-estimator-doc-link.fitted {\n",
       "  /* fitted */\n",
       "  border: var(--sklearn-color-fitted-level-1) 1pt solid;\n",
       "  color: var(--sklearn-color-fitted-level-1);\n",
       "}\n",
       "\n",
       "/* On hover */\n",
       "div.sk-estimator:hover .sk-estimator-doc-link:hover,\n",
       ".sk-estimator-doc-link:hover,\n",
       "div.sk-label-container:hover .sk-estimator-doc-link:hover,\n",
       ".sk-estimator-doc-link:hover {\n",
       "  /* unfitted */\n",
       "  background-color: var(--sklearn-color-unfitted-level-3);\n",
       "  color: var(--sklearn-color-background);\n",
       "  text-decoration: none;\n",
       "}\n",
       "\n",
       "div.sk-estimator.fitted:hover .sk-estimator-doc-link.fitted:hover,\n",
       ".sk-estimator-doc-link.fitted:hover,\n",
       "div.sk-label-container:hover .sk-estimator-doc-link.fitted:hover,\n",
       ".sk-estimator-doc-link.fitted:hover {\n",
       "  /* fitted */\n",
       "  background-color: var(--sklearn-color-fitted-level-3);\n",
       "  color: var(--sklearn-color-background);\n",
       "  text-decoration: none;\n",
       "}\n",
       "\n",
       "/* Span, style for the box shown on hovering the info icon */\n",
       ".sk-estimator-doc-link span {\n",
       "  display: none;\n",
       "  z-index: 9999;\n",
       "  position: relative;\n",
       "  font-weight: normal;\n",
       "  right: .2ex;\n",
       "  padding: .5ex;\n",
       "  margin: .5ex;\n",
       "  width: min-content;\n",
       "  min-width: 20ex;\n",
       "  max-width: 50ex;\n",
       "  color: var(--sklearn-color-text);\n",
       "  box-shadow: 2pt 2pt 4pt #999;\n",
       "  /* unfitted */\n",
       "  background: var(--sklearn-color-unfitted-level-0);\n",
       "  border: .5pt solid var(--sklearn-color-unfitted-level-3);\n",
       "}\n",
       "\n",
       ".sk-estimator-doc-link.fitted span {\n",
       "  /* fitted */\n",
       "  background: var(--sklearn-color-fitted-level-0);\n",
       "  border: var(--sklearn-color-fitted-level-3);\n",
       "}\n",
       "\n",
       ".sk-estimator-doc-link:hover span {\n",
       "  display: block;\n",
       "}\n",
       "\n",
       "/* \"?\"-specific style due to the `<a>` HTML tag */\n",
       "\n",
       "#sk-container-id-1 a.estimator_doc_link {\n",
       "  float: right;\n",
       "  font-size: 1rem;\n",
       "  line-height: 1em;\n",
       "  font-family: monospace;\n",
       "  background-color: var(--sklearn-color-background);\n",
       "  border-radius: 1rem;\n",
       "  height: 1rem;\n",
       "  width: 1rem;\n",
       "  text-decoration: none;\n",
       "  /* unfitted */\n",
       "  color: var(--sklearn-color-unfitted-level-1);\n",
       "  border: var(--sklearn-color-unfitted-level-1) 1pt solid;\n",
       "}\n",
       "\n",
       "#sk-container-id-1 a.estimator_doc_link.fitted {\n",
       "  /* fitted */\n",
       "  border: var(--sklearn-color-fitted-level-1) 1pt solid;\n",
       "  color: var(--sklearn-color-fitted-level-1);\n",
       "}\n",
       "\n",
       "/* On hover */\n",
       "#sk-container-id-1 a.estimator_doc_link:hover {\n",
       "  /* unfitted */\n",
       "  background-color: var(--sklearn-color-unfitted-level-3);\n",
       "  color: var(--sklearn-color-background);\n",
       "  text-decoration: none;\n",
       "}\n",
       "\n",
       "#sk-container-id-1 a.estimator_doc_link.fitted:hover {\n",
       "  /* fitted */\n",
       "  background-color: var(--sklearn-color-fitted-level-3);\n",
       "}\n",
       "</style><div id=\"sk-container-id-1\" class=\"sk-top-container\"><div class=\"sk-text-repr-fallback\"><pre>RandomForestClassifier(random_state=42)</pre><b>In a Jupyter environment, please rerun this cell to show the HTML representation or trust the notebook. <br />On GitHub, the HTML representation is unable to render, please try loading this page with nbviewer.org.</b></div><div class=\"sk-container\" hidden><div class=\"sk-item\"><div class=\"sk-estimator fitted sk-toggleable\"><input class=\"sk-toggleable__control sk-hidden--visually\" id=\"sk-estimator-id-1\" type=\"checkbox\" checked><label for=\"sk-estimator-id-1\" class=\"sk-toggleable__label fitted sk-toggleable__label-arrow fitted\">&nbsp;&nbsp;RandomForestClassifier<a class=\"sk-estimator-doc-link fitted\" rel=\"noreferrer\" target=\"_blank\" href=\"https://scikit-learn.org/1.5/modules/generated/sklearn.ensemble.RandomForestClassifier.html\">?<span>Documentation for RandomForestClassifier</span></a><span class=\"sk-estimator-doc-link fitted\">i<span>Fitted</span></span></label><div class=\"sk-toggleable__content fitted\"><pre>RandomForestClassifier(random_state=42)</pre></div> </div></div></div></div>"
      ],
      "text/plain": [
       "RandomForestClassifier(random_state=42)"
      ]
     },
     "execution_count": 36,
     "metadata": {},
     "output_type": "execute_result"
    }
   ],
   "source": [
    "# Entrenar modelo Random Forest\n",
    "model = RandomForestClassifier(n_estimators=100, random_state=42)\n",
    "model.fit(X_train, y_train)\n",
    "\n"
   ]
  },
  {
   "cell_type": "code",
   "execution_count": 37,
   "metadata": {},
   "outputs": [],
   "source": [
    "# Predicciones\n",
    "y_pred = model.predict(X_test)\n",
    "\n"
   ]
  },
  {
   "cell_type": "code",
   "execution_count": 38,
   "metadata": {},
   "outputs": [
    {
     "name": "stdout",
     "output_type": "stream",
     "text": [
      "--- MÉTRICAS DEL MODELO ---\n",
      "Accuracy: 0.9130\n",
      "Precision: 0.9021\n",
      "Recall: 0.9530\n",
      "F1 Score: 0.9268\n",
      "F2 Score: 0.9423\n",
      "ROC AUC Score: 0.9056\n",
      "R2 Score: 0.6432\n"
     ]
    }
   ],
   "source": [
    "# Evaluación del modelo\n",
    "accuracy = accuracy_score(y_test, y_pred)\n",
    "precision = precision_score(y_test, y_pred)\n",
    "recall = recall_score(y_test, y_pred)\n",
    "f1 = f1_score(y_test, y_pred)\n",
    "f2 = fbeta_score(y_test, y_pred, beta=2)\n",
    "roc_auc = roc_auc_score(y_test, y_pred)\n",
    "r2 = r2_score(y_test, y_pred)\n",
    "\n",
    "print(\"--- MÉTRICAS DEL MODELO ---\")\n",
    "print(f\"Accuracy: {accuracy:.4f}\")\n",
    "print(f\"Precision: {precision:.4f}\")\n",
    "print(f\"Recall: {recall:.4f}\")\n",
    "print(f\"F1 Score: {f1:.4f}\")\n",
    "print(f\"F2 Score: {f2:.4f}\")\n",
    "print(f\"ROC AUC Score: {roc_auc:.4f}\")\n",
    "print(f\"R2 Score: {r2:.4f}\")\n"
   ]
  },
  {
   "cell_type": "code",
   "execution_count": 39,
   "metadata": {},
   "outputs": [
    {
     "data": {
      "image/png": "[encoded data removed]",
      "text/plain": [
       "<Figure size 600x400 with 2 Axes>"
      ]
     },
     "metadata": {},
     "output_type": "display_data"
    }
   ],
   "source": [
    "import matplotlib.pyplot as plt\n",
    "from sklearn.metrics import accuracy_score, precision_score, recall_score, f1_score, fbeta_score, r2_score, confusion_matrix\n",
    "import seaborn as sns\n",
    "# Matriz de confusión\n",
    "conf_matrix = confusion_matrix(y_test, y_pred)\n",
    "plt.figure(figsize=(6, 4))\n",
    "sns.heatmap(conf_matrix, annot=True, fmt='d', cmap='Blues', xticklabels=['No Fake', 'Fake'], yticklabels=['No Fake', 'Fake'])\n",
    "plt.xlabel('Predicted')\n",
    "plt.ylabel('Actual')\n",
    "plt.title('Matriz de Confusión')\n",
    "plt.show()\n"
   ]
  },
  {
   "cell_type": "markdown",
   "metadata": {},
   "source": [
    "## Seleccion de hiperparametros con Optuna"
   ]
  },
  {
   "cell_type": "code",
   "execution_count": 40,
   "metadata": {},
   "outputs": [
    {
     "name": "stderr",
     "output_type": "stream",
     "text": [
      "[I 2025-02-21 16:17:58,757] A new study created in memory with name: no-name-c953fe2f-37a9-4d67-bf3e-13ed11903e7d\n",
      "[I 2025-02-21 16:18:12,450] Trial 0 finished with value: 0.9156673207453018 and parameters: {'n_estimators': 144, 'max_depth': 48, 'min_samples_split': 8, 'min_samples_leaf': 3}. Best is trial 0 with value: 0.9156673207453018.\n",
      "[I 2025-02-21 16:18:14,927] Trial 1 finished with value: 0.8413882950691101 and parameters: {'n_estimators': 89, 'max_depth': 12, 'min_samples_split': 2, 'min_samples_leaf': 5}. Best is trial 0 with value: 0.9156673207453018.\n",
      "[I 2025-02-21 16:18:25,859] Trial 2 finished with value: 0.9074871609367652 and parameters: {'n_estimators': 200, 'max_depth': 37, 'min_samples_split': 2, 'min_samples_leaf': 5}. Best is trial 0 with value: 0.9156673207453018.\n",
      "[I 2025-02-21 16:18:32,406] Trial 3 finished with value: 0.8561436317969735 and parameters: {'n_estimators': 258, 'max_depth': 14, 'min_samples_split': 3, 'min_samples_leaf': 1}. Best is trial 0 with value: 0.9156673207453018.\n",
      "[I 2025-02-21 16:18:38,531] Trial 4 finished with value: 0.8997371043222218 and parameters: {'n_estimators': 126, 'max_depth': 29, 'min_samples_split': 5, 'min_samples_leaf': 2}. Best is trial 0 with value: 0.9156673207453018.\n",
      "[I 2025-02-21 16:18:42,364] Trial 5 finished with value: 0.8361824526466863 and parameters: {'n_estimators': 203, 'max_depth': 11, 'min_samples_split': 4, 'min_samples_leaf': 2}. Best is trial 0 with value: 0.9156673207453018.\n",
      "[I 2025-02-21 16:18:52,698] Trial 6 finished with value: 0.9121776132451197 and parameters: {'n_estimators': 164, 'max_depth': 41, 'min_samples_split': 3, 'min_samples_leaf': 3}. Best is trial 0 with value: 0.9156673207453018.\n",
      "[I 2025-02-21 16:18:55,613] Trial 7 finished with value: 0.8054143076725844 and parameters: {'n_estimators': 198, 'max_depth': 7, 'min_samples_split': 7, 'min_samples_leaf': 1}. Best is trial 0 with value: 0.9156673207453018.\n",
      "[I 2025-02-21 16:18:59,831] Trial 8 finished with value: 0.9125884259176213 and parameters: {'n_estimators': 66, 'max_depth': 48, 'min_samples_split': 10, 'min_samples_leaf': 5}. Best is trial 0 with value: 0.9156673207453018.\n",
      "[I 2025-02-21 16:19:02,045] Trial 9 finished with value: 0.8185976920822249 and parameters: {'n_estimators': 126, 'max_depth': 9, 'min_samples_split': 8, 'min_samples_leaf': 3}. Best is trial 0 with value: 0.9156673207453018.\n",
      "[I 2025-02-21 16:19:12,849] Trial 10 finished with value: 0.8956148292061016 and parameters: {'n_estimators': 287, 'max_depth': 26, 'min_samples_split': 10, 'min_samples_leaf': 4}. Best is trial 0 with value: 0.9156673207453018.\n",
      "[I 2025-02-21 16:19:16,395] Trial 11 finished with value: 0.9135313646845372 and parameters: {'n_estimators': 58, 'max_depth': 47, 'min_samples_split': 10, 'min_samples_leaf': 4}. Best is trial 0 with value: 0.9156673207453018.\n",
      "[I 2025-02-21 16:19:23,344] Trial 12 finished with value: 0.9153602390238964 and parameters: {'n_estimators': 103, 'max_depth': 50, 'min_samples_split': 8, 'min_samples_leaf': 4}. Best is trial 0 with value: 0.9156673207453018.\n",
      "[I 2025-02-21 16:19:31,423] Trial 13 finished with value: 0.9155244573998494 and parameters: {'n_estimators': 129, 'max_depth': 50, 'min_samples_split': 8, 'min_samples_leaf': 4}. Best is trial 0 with value: 0.9156673207453018.\n",
      "[I 2025-02-21 16:19:39,761] Trial 14 finished with value: 0.9109376921312642 and parameters: {'n_estimators': 157, 'max_depth': 40, 'min_samples_split': 8, 'min_samples_leaf': 3}. Best is trial 0 with value: 0.9156673207453018.\n",
      "[I 2025-02-21 16:19:46,110] Trial 15 finished with value: 0.905108800115056 and parameters: {'n_estimators': 136, 'max_depth': 32, 'min_samples_split': 6, 'min_samples_leaf': 2}. Best is trial 0 with value: 0.9156673207453018.\n",
      "[I 2025-02-21 16:19:54,692] Trial 16 finished with value: 0.8892929976886561 and parameters: {'n_estimators': 237, 'max_depth': 23, 'min_samples_split': 7, 'min_samples_leaf': 4}. Best is trial 0 with value: 0.9156673207453018.\n",
      "[I 2025-02-21 16:20:01,039] Trial 17 finished with value: 0.9132187021257205 and parameters: {'n_estimators': 97, 'max_depth': 45, 'min_samples_split': 9, 'min_samples_leaf': 4}. Best is trial 0 with value: 0.9156673207453018.\n",
      "[I 2025-02-21 16:20:09,276] Trial 18 finished with value: 0.9076821665210124 and parameters: {'n_estimators': 174, 'max_depth': 35, 'min_samples_split': 6, 'min_samples_leaf': 3}. Best is trial 0 with value: 0.9156673207453018.\n",
      "[I 2025-02-21 16:20:13,711] Trial 19 finished with value: 0.8790082236792707 and parameters: {'n_estimators': 145, 'max_depth': 19, 'min_samples_split': 9, 'min_samples_leaf': 3}. Best is trial 0 with value: 0.9156673207453018.\n",
      "[I 2025-02-21 16:20:28,591] Trial 20 finished with value: 0.9135356562833017 and parameters: {'n_estimators': 225, 'max_depth': 42, 'min_samples_split': 7, 'min_samples_leaf': 2}. Best is trial 0 with value: 0.9156673207453018.\n",
      "[I 2025-02-21 16:20:35,569] Trial 21 finished with value: 0.9152351974859882 and parameters: {'n_estimators': 101, 'max_depth': 50, 'min_samples_split': 8, 'min_samples_leaf': 4}. Best is trial 0 with value: 0.9156673207453018.\n",
      "[I 2025-02-21 16:20:41,953] Trial 22 finished with value: 0.9129755954175002 and parameters: {'n_estimators': 115, 'max_depth': 45, 'min_samples_split': 9, 'min_samples_leaf': 4}. Best is trial 0 with value: 0.9156673207453018.\n",
      "[I 2025-02-21 16:20:46,817] Trial 23 finished with value: 0.9134111090733784 and parameters: {'n_estimators': 85, 'max_depth': 50, 'min_samples_split': 8, 'min_samples_leaf': 5}. Best is trial 0 with value: 0.9156673207453018.\n",
      "[I 2025-02-21 16:20:55,265] Trial 24 finished with value: 0.9126022563249224 and parameters: {'n_estimators': 148, 'max_depth': 44, 'min_samples_split': 7, 'min_samples_leaf': 4}. Best is trial 0 with value: 0.9156673207453018.\n",
      "[I 2025-02-21 16:21:01,919] Trial 25 finished with value: 0.9094641436342414 and parameters: {'n_estimators': 111, 'max_depth': 38, 'min_samples_split': 5, 'min_samples_leaf': 3}. Best is trial 0 with value: 0.9156673207453018.\n",
      "[I 2025-02-21 16:21:07,024] Trial 26 finished with value: 0.9144756340918715 and parameters: {'n_estimators': 74, 'max_depth': 50, 'min_samples_split': 9, 'min_samples_leaf': 4}. Best is trial 0 with value: 0.9156673207453018.\n",
      "[I 2025-02-21 16:21:16,533] Trial 27 finished with value: 0.9065944445178769 and parameters: {'n_estimators': 189, 'max_depth': 34, 'min_samples_split': 8, 'min_samples_leaf': 3}. Best is trial 0 with value: 0.9156673207453018.\n",
      "[I 2025-02-21 16:21:26,874] Trial 28 finished with value: 0.9110401375636205 and parameters: {'n_estimators': 174, 'max_depth': 43, 'min_samples_split': 6, 'min_samples_leaf': 5}. Best is trial 0 with value: 0.9156673207453018.\n",
      "[I 2025-02-21 16:21:32,206] Trial 29 finished with value: 0.9128638186666128 and parameters: {'n_estimators': 83, 'max_depth': 47, 'min_samples_split': 7, 'min_samples_leaf': 5}. Best is trial 0 with value: 0.9156673207453018.\n",
      "[I 2025-02-21 16:21:38,790] Trial 30 finished with value: 0.9087000455862914 and parameters: {'n_estimators': 128, 'max_depth': 39, 'min_samples_split': 9, 'min_samples_leaf': 4}. Best is trial 0 with value: 0.9156673207453018.\n",
      "[I 2025-02-21 16:21:45,064] Trial 31 finished with value: 0.9154118970647339 and parameters: {'n_estimators': 104, 'max_depth': 50, 'min_samples_split': 8, 'min_samples_leaf': 4}. Best is trial 0 with value: 0.9156673207453018.\n",
      "[I 2025-02-21 16:21:51,537] Trial 32 finished with value: 0.913487657156851 and parameters: {'n_estimators': 103, 'max_depth': 46, 'min_samples_split': 8, 'min_samples_leaf': 4}. Best is trial 0 with value: 0.9156673207453018.\n",
      "[I 2025-02-21 16:21:58,833] Trial 33 finished with value: 0.9145643913935416 and parameters: {'n_estimators': 113, 'max_depth': 50, 'min_samples_split': 7, 'min_samples_leaf': 5}. Best is trial 0 with value: 0.9156673207453018.\n",
      "[I 2025-02-21 16:22:07,326] Trial 34 finished with value: 0.9150877601997683 and parameters: {'n_estimators': 143, 'max_depth': 47, 'min_samples_split': 9, 'min_samples_leaf': 3}. Best is trial 0 with value: 0.9156673207453018.\n",
      "[I 2025-02-21 16:22:12,378] Trial 35 finished with value: 0.9114151323733133 and parameters: {'n_estimators': 90, 'max_depth': 43, 'min_samples_split': 5, 'min_samples_leaf': 4}. Best is trial 0 with value: 0.9156673207453018.\n",
      "[I 2025-02-21 16:22:24,168] Trial 36 finished with value: 0.9082145874338389 and parameters: {'n_estimators': 163, 'max_depth': 36, 'min_samples_split': 8, 'min_samples_leaf': 3}. Best is trial 0 with value: 0.9156673207453018.\n",
      "[I 2025-02-21 16:22:27,550] Trial 37 finished with value: 0.8611021062049169 and parameters: {'n_estimators': 122, 'max_depth': 15, 'min_samples_split': 10, 'min_samples_leaf': 5}. Best is trial 0 with value: 0.9156673207453018.\n",
      "[I 2025-02-21 16:22:37,802] Trial 38 finished with value: 0.9160900424049053 and parameters: {'n_estimators': 133, 'max_depth': 48, 'min_samples_split': 7, 'min_samples_leaf': 2}. Best is trial 38 with value: 0.9160900424049053.\n",
      "[I 2025-02-21 16:22:46,852] Trial 39 finished with value: 0.9043106126268796 and parameters: {'n_estimators': 185, 'max_depth': 31, 'min_samples_split': 6, 'min_samples_leaf': 1}. Best is trial 38 with value: 0.9160900424049053.\n",
      "[I 2025-02-21 16:22:54,957] Trial 40 finished with value: 0.9127223460908066 and parameters: {'n_estimators': 134, 'max_depth': 41, 'min_samples_split': 7, 'min_samples_leaf': 2}. Best is trial 38 with value: 0.9160900424049053.\n",
      "[I 2025-02-21 16:22:58,908] Trial 41 finished with value: 0.9159214717058853 and parameters: {'n_estimators': 53, 'max_depth': 48, 'min_samples_split': 2, 'min_samples_leaf': 2}. Best is trial 38 with value: 0.9160900424049053.\n",
      "[I 2025-02-21 16:23:02,797] Trial 42 finished with value: 0.9149823727046261 and parameters: {'n_estimators': 53, 'max_depth': 47, 'min_samples_split': 2, 'min_samples_leaf': 2}. Best is trial 38 with value: 0.9160900424049053.\n",
      "[I 2025-02-21 16:23:08,902] Trial 43 finished with value: 0.9167279890188244 and parameters: {'n_estimators': 74, 'max_depth': 48, 'min_samples_split': 2, 'min_samples_leaf': 1}. Best is trial 43 with value: 0.9167279890188244.\n",
      "[I 2025-02-21 16:23:13,864] Trial 44 finished with value: 0.9142888344979839 and parameters: {'n_estimators': 73, 'max_depth': 44, 'min_samples_split': 2, 'min_samples_leaf': 1}. Best is trial 43 with value: 0.9167279890188244.\n",
      "[I 2025-02-21 16:23:18,420] Trial 45 finished with value: 0.9172825347459046 and parameters: {'n_estimators': 64, 'max_depth': 48, 'min_samples_split': 3, 'min_samples_leaf': 1}. Best is trial 45 with value: 0.9172825347459046.\n",
      "[I 2025-02-21 16:23:19,131] Trial 46 finished with value: 0.7893012469832693 and parameters: {'n_estimators': 50, 'max_depth': 5, 'min_samples_split': 3, 'min_samples_leaf': 1}. Best is trial 45 with value: 0.9172825347459046.\n",
      "[I 2025-02-21 16:23:25,008] Trial 47 finished with value: 0.916898432744517 and parameters: {'n_estimators': 72, 'max_depth': 48, 'min_samples_split': 3, 'min_samples_leaf': 1}. Best is trial 45 with value: 0.9172825347459046.\n",
      "[I 2025-02-21 16:23:29,492] Trial 48 finished with value: 0.9120132729374542 and parameters: {'n_estimators': 64, 'max_depth': 40, 'min_samples_split': 3, 'min_samples_leaf': 1}. Best is trial 45 with value: 0.9172825347459046.\n",
      "[I 2025-02-21 16:23:35,292] Trial 49 finished with value: 0.916663787738082 and parameters: {'n_estimators': 71, 'max_depth': 48, 'min_samples_split': 4, 'min_samples_leaf': 1}. Best is trial 45 with value: 0.9172825347459046.\n",
      "[I 2025-02-21 16:23:42,595] Trial 50 finished with value: 0.9149421285502826 and parameters: {'n_estimators': 75, 'max_depth': 45, 'min_samples_split': 4, 'min_samples_leaf': 1}. Best is trial 45 with value: 0.9172825347459046.\n",
      "[I 2025-02-21 16:23:47,275] Trial 51 finished with value: 0.9166365697030109 and parameters: {'n_estimators': 63, 'max_depth': 47, 'min_samples_split': 4, 'min_samples_leaf': 1}. Best is trial 45 with value: 0.9172825347459046.\n",
      "[I 2025-02-21 16:23:52,661] Trial 52 finished with value: 0.917238243627736 and parameters: {'n_estimators': 64, 'max_depth': 48, 'min_samples_split': 4, 'min_samples_leaf': 1}. Best is trial 45 with value: 0.9172825347459046.\n",
      "[I 2025-02-21 16:23:57,683] Trial 53 finished with value: 0.9137127246682022 and parameters: {'n_estimators': 67, 'max_depth': 42, 'min_samples_split': 4, 'min_samples_leaf': 1}. Best is trial 45 with value: 0.9172825347459046.\n",
      "[I 2025-02-21 16:24:05,268] Trial 54 finished with value: 0.9174653786721324 and parameters: {'n_estimators': 91, 'max_depth': 48, 'min_samples_split': 4, 'min_samples_leaf': 1}. Best is trial 54 with value: 0.9174653786721324.\n",
      "[I 2025-02-21 16:24:12,180] Trial 55 finished with value: 0.9177165772854735 and parameters: {'n_estimators': 91, 'max_depth': 48, 'min_samples_split': 3, 'min_samples_leaf': 1}. Best is trial 55 with value: 0.9177165772854735.\n",
      "[I 2025-02-21 16:24:16,358] Trial 56 finished with value: 0.8897304579335478 and parameters: {'n_estimators': 91, 'max_depth': 25, 'min_samples_split': 3, 'min_samples_leaf': 1}. Best is trial 55 with value: 0.9177165772854735.\n",
      "[I 2025-02-21 16:24:22,664] Trial 57 finished with value: 0.9158142298602486 and parameters: {'n_estimators': 80, 'max_depth': 45, 'min_samples_split': 3, 'min_samples_leaf': 1}. Best is trial 55 with value: 0.9177165772854735.\n",
      "[I 2025-02-21 16:24:30,190] Trial 58 finished with value: 0.9151069565946146 and parameters: {'n_estimators': 95, 'max_depth': 43, 'min_samples_split': 2, 'min_samples_leaf': 1}. Best is trial 55 with value: 0.9177165772854735.\n",
      "[I 2025-02-21 16:24:35,145] Trial 59 finished with value: 0.91687785716422 and parameters: {'n_estimators': 58, 'max_depth': 48, 'min_samples_split': 3, 'min_samples_leaf': 1}. Best is trial 55 with value: 0.9177165772854735.\n",
      "[I 2025-02-21 16:24:38,842] Trial 60 finished with value: 0.9098285052481122 and parameters: {'n_estimators': 59, 'max_depth': 38, 'min_samples_split': 3, 'min_samples_leaf': 1}. Best is trial 55 with value: 0.9177165772854735.\n",
      "[I 2025-02-21 16:24:45,731] Trial 61 finished with value: 0.9174591290795824 and parameters: {'n_estimators': 80, 'max_depth': 48, 'min_samples_split': 3, 'min_samples_leaf': 1}. Best is trial 55 with value: 0.9177165772854735.\n",
      "[I 2025-02-21 16:24:52,835] Trial 62 finished with value: 0.9162784435949345 and parameters: {'n_estimators': 89, 'max_depth': 46, 'min_samples_split': 3, 'min_samples_leaf': 1}. Best is trial 55 with value: 0.9177165772854735.\n",
      "[I 2025-02-21 16:24:59,877] Trial 63 finished with value: 0.9177804810415108 and parameters: {'n_estimators': 82, 'max_depth': 49, 'min_samples_split': 4, 'min_samples_leaf': 1}. Best is trial 63 with value: 0.9177804810415108.\n",
      "[I 2025-02-21 16:25:22,102] Trial 64 finished with value: 0.9191760287783074 and parameters: {'n_estimators': 284, 'max_depth': 49, 'min_samples_split': 4, 'min_samples_leaf': 1}. Best is trial 64 with value: 0.9191760287783074.\n",
      "[I 2025-02-21 16:25:43,915] Trial 65 finished with value: 0.9174186777241703 and parameters: {'n_estimators': 287, 'max_depth': 49, 'min_samples_split': 5, 'min_samples_leaf': 2}. Best is trial 64 with value: 0.9191760287783074.\n",
      "[I 2025-02-21 16:26:03,944] Trial 66 finished with value: 0.9152981136238576 and parameters: {'n_estimators': 286, 'max_depth': 45, 'min_samples_split': 5, 'min_samples_leaf': 2}. Best is trial 64 with value: 0.9191760287783074.\n",
      "[I 2025-02-21 16:26:23,490] Trial 67 finished with value: 0.9179915194741375 and parameters: {'n_estimators': 273, 'max_depth': 50, 'min_samples_split': 5, 'min_samples_leaf': 2}. Best is trial 64 with value: 0.9191760287783074.\n",
      "[I 2025-02-21 16:26:45,718] Trial 68 finished with value: 0.917815898681478 and parameters: {'n_estimators': 277, 'max_depth': 50, 'min_samples_split': 5, 'min_samples_leaf': 2}. Best is trial 64 with value: 0.9191760287783074.\n",
      "[I 2025-02-21 16:27:08,824] Trial 69 finished with value: 0.9180654561790249 and parameters: {'n_estimators': 299, 'max_depth': 50, 'min_samples_split': 5, 'min_samples_leaf': 2}. Best is trial 64 with value: 0.9191760287783074.\n",
      "[I 2025-02-21 16:27:31,141] Trial 70 finished with value: 0.9180654561790249 and parameters: {'n_estimators': 299, 'max_depth': 50, 'min_samples_split': 5, 'min_samples_leaf': 2}. Best is trial 64 with value: 0.9191760287783074.\n",
      "[I 2025-02-21 16:27:53,126] Trial 71 finished with value: 0.9180920962718402 and parameters: {'n_estimators': 296, 'max_depth': 50, 'min_samples_split': 5, 'min_samples_leaf': 2}. Best is trial 64 with value: 0.9191760287783074.\n",
      "[I 2025-02-21 16:28:14,842] Trial 72 finished with value: 0.9179561071253728 and parameters: {'n_estimators': 298, 'max_depth': 50, 'min_samples_split': 5, 'min_samples_leaf': 2}. Best is trial 64 with value: 0.9191760287783074.\n",
      "[I 2025-02-21 16:28:38,568] Trial 73 finished with value: 0.918040292502865 and parameters: {'n_estimators': 300, 'max_depth': 50, 'min_samples_split': 5, 'min_samples_leaf': 2}. Best is trial 64 with value: 0.9191760287783074.\n",
      "[I 2025-02-21 16:29:01,154] Trial 74 finished with value: 0.9180654561790249 and parameters: {'n_estimators': 299, 'max_depth': 50, 'min_samples_split': 5, 'min_samples_leaf': 2}. Best is trial 64 with value: 0.9191760287783074.\n",
      "[I 2025-02-21 16:29:22,474] Trial 75 finished with value: 0.916171657973513 and parameters: {'n_estimators': 300, 'max_depth': 46, 'min_samples_split': 5, 'min_samples_leaf': 2}. Best is trial 64 with value: 0.9191760287783074.\n",
      "[I 2025-02-21 16:29:43,101] Trial 76 finished with value: 0.9177237134788049 and parameters: {'n_estimators': 264, 'max_depth': 50, 'min_samples_split': 6, 'min_samples_leaf': 2}. Best is trial 64 with value: 0.9191760287783074.\n",
      "[I 2025-02-21 16:30:04,442] Trial 77 finished with value: 0.91630357839386 and parameters: {'n_estimators': 300, 'max_depth': 46, 'min_samples_split': 6, 'min_samples_leaf': 2}. Best is trial 64 with value: 0.9191760287783074.\n",
      "[I 2025-02-21 16:30:23,319] Trial 78 finished with value: 0.9177981813438334 and parameters: {'n_estimators': 266, 'max_depth': 50, 'min_samples_split': 5, 'min_samples_leaf': 2}. Best is trial 64 with value: 0.9191760287783074.\n",
      "[I 2025-02-21 16:30:32,219] Trial 79 finished with value: 0.8824100684813381 and parameters: {'n_estimators': 291, 'max_depth': 19, 'min_samples_split': 5, 'min_samples_leaf': 2}. Best is trial 64 with value: 0.9191760287783074.\n",
      "[I 2025-02-21 16:30:49,034] Trial 80 finished with value: 0.9174027773985165 and parameters: {'n_estimators': 244, 'max_depth': 49, 'min_samples_split': 5, 'min_samples_leaf': 2}. Best is trial 64 with value: 0.9191760287783074.\n",
      "[I 2025-02-21 16:31:08,799] Trial 81 finished with value: 0.9178099968470974 and parameters: {'n_estimators': 276, 'max_depth': 50, 'min_samples_split': 5, 'min_samples_leaf': 2}. Best is trial 64 with value: 0.9191760287783074.\n",
      "[I 2025-02-21 16:31:28,610] Trial 82 finished with value: 0.917297187314108 and parameters: {'n_estimators': 277, 'max_depth': 49, 'min_samples_split': 6, 'min_samples_leaf': 2}. Best is trial 64 with value: 0.9191760287783074.\n",
      "[I 2025-02-21 16:31:47,177] Trial 83 finished with value: 0.9146895665096869 and parameters: {'n_estimators': 279, 'max_depth': 44, 'min_samples_split': 5, 'min_samples_leaf': 2}. Best is trial 64 with value: 0.9191760287783074.\n",
      "[I 2025-02-21 16:32:07,885] Trial 84 finished with value: 0.9169920707056505 and parameters: {'n_estimators': 294, 'max_depth': 50, 'min_samples_split': 5, 'min_samples_leaf': 3}. Best is trial 64 with value: 0.9191760287783074.\n",
      "[I 2025-02-21 16:32:26,593] Trial 85 finished with value: 0.9158448931211522 and parameters: {'n_estimators': 270, 'max_depth': 46, 'min_samples_split': 5, 'min_samples_leaf': 2}. Best is trial 64 with value: 0.9191760287783074.\n",
      "[I 2025-02-21 16:32:47,217] Trial 86 finished with value: 0.9175381775928517 and parameters: {'n_estimators': 284, 'max_depth': 49, 'min_samples_split': 5, 'min_samples_leaf': 2}. Best is trial 64 with value: 0.9191760287783074.\n",
      "[I 2025-02-21 16:33:02,425] Trial 87 finished with value: 0.9149962766890866 and parameters: {'n_estimators': 255, 'max_depth': 47, 'min_samples_split': 6, 'min_samples_leaf': 3}. Best is trial 64 with value: 0.9191760287783074.\n",
      "[I 2025-02-21 16:33:24,033] Trial 88 finished with value: 0.9180384516119846 and parameters: {'n_estimators': 295, 'max_depth': 50, 'min_samples_split': 4, 'min_samples_leaf': 2}. Best is trial 64 with value: 0.9191760287783074.\n",
      "[I 2025-02-21 16:33:43,595] Trial 89 finished with value: 0.914889674678399 and parameters: {'n_estimators': 294, 'max_depth': 44, 'min_samples_split': 4, 'min_samples_leaf': 2}. Best is trial 64 with value: 0.9191760287783074.\n",
      "[I 2025-02-21 16:34:04,611] Trial 90 finished with value: 0.9162692049306338 and parameters: {'n_estimators': 294, 'max_depth': 46, 'min_samples_split': 4, 'min_samples_leaf': 2}. Best is trial 64 with value: 0.9191760287783074.\n",
      "[I 2025-02-21 16:34:22,924] Trial 91 finished with value: 0.9175189603864023 and parameters: {'n_estimators': 280, 'max_depth': 49, 'min_samples_split': 5, 'min_samples_leaf': 2}. Best is trial 64 with value: 0.9191760287783074.\n",
      "[I 2025-02-21 16:34:40,913] Trial 92 finished with value: 0.9177205777968942 and parameters: {'n_estimators': 271, 'max_depth': 50, 'min_samples_split': 6, 'min_samples_leaf': 2}. Best is trial 64 with value: 0.9191760287783074.\n",
      "[I 2025-02-21 16:35:00,318] Trial 93 finished with value: 0.9166664280357637 and parameters: {'n_estimators': 298, 'max_depth': 47, 'min_samples_split': 4, 'min_samples_leaf': 2}. Best is trial 64 with value: 0.9191760287783074.\n",
      "[I 2025-02-21 16:35:17,671] Trial 94 finished with value: 0.917653106690665 and parameters: {'n_estimators': 259, 'max_depth': 50, 'min_samples_split': 4, 'min_samples_leaf': 2}. Best is trial 64 with value: 0.9191760287783074.\n",
      "[I 2025-02-21 16:35:35,783] Trial 95 finished with value: 0.916229324827485 and parameters: {'n_estimators': 289, 'max_depth': 49, 'min_samples_split': 5, 'min_samples_leaf': 3}. Best is trial 64 with value: 0.9191760287783074.\n",
      "[I 2025-02-21 16:35:54,190] Trial 96 finished with value: 0.9168101815704295 and parameters: {'n_estimators': 282, 'max_depth': 47, 'min_samples_split': 5, 'min_samples_leaf': 2}. Best is trial 64 with value: 0.9191760287783074.\n",
      "[I 2025-02-21 16:36:12,455] Trial 97 finished with value: 0.917348775327171 and parameters: {'n_estimators': 274, 'max_depth': 49, 'min_samples_split': 6, 'min_samples_leaf': 2}. Best is trial 64 with value: 0.9191760287783074.\n",
      "[I 2025-02-21 16:36:18,333] Trial 98 finished with value: 0.8412647823338648 and parameters: {'n_estimators': 292, 'max_depth': 12, 'min_samples_split': 5, 'min_samples_leaf': 2}. Best is trial 64 with value: 0.9191760287783074.\n",
      "[I 2025-02-21 16:36:37,999] Trial 99 finished with value: 0.9179413136531819 and parameters: {'n_estimators': 284, 'max_depth': 50, 'min_samples_split': 4, 'min_samples_leaf': 2}. Best is trial 64 with value: 0.9191760287783074.\n"
     ]
    },
    {
     "name": "stdout",
     "output_type": "stream",
     "text": [
      "\n",
      "--- HIPERPARÁMETROS SELECCIONADOS ---\n",
      "n_estimators: 284\n",
      "max_depth: 49\n",
      "min_samples_split: 4\n",
      "min_samples_leaf: 1\n",
      "\n",
      "--- MÉTRICAS DEL MODELO OPTIMIZADO ---\n",
      "Accuracy: 0.9014\n",
      "Precision: 0.8618\n",
      "Recall: 0.9879\n",
      "F1 Score: 0.9206\n",
      "F2 Score: 0.9598\n",
      "ROC AUC Score: 0.8854\n",
      "R2 Score: 0.5958\n"
     ]
    }
   ],
   "source": [
    "import optuna\n",
    "import pandas as pd\n",
    "from sklearn.feature_extraction.text import TfidfVectorizer\n",
    "from sklearn.ensemble import RandomForestClassifier\n",
    "from sklearn.model_selection import train_test_split, cross_val_score\n",
    "from sklearn.metrics import (accuracy_score, precision_score, recall_score, \n",
    "                             f1_score, fbeta_score, roc_auc_score, r2_score)\n",
    "import warnings\n",
    "\n",
    "# Ignorar warnings de métricas cuando hay clases no representadas en las predicciones\n",
    "warnings.filterwarnings(\"ignore\", category=UserWarning)\n",
    "\n",
    "# Vectorización de texto\n",
    "vectorizer = TfidfVectorizer(max_features=5000)\n",
    "X = vectorizer.fit_transform(df['Titulo'] + ' ' + df['Descripcion'])\n",
    "y = df['Label']\n",
    "\n",
    "# Dividir en conjunto de entrenamiento y prueba\n",
    "X_train, X_test, y_train, y_test = train_test_split(X, y, test_size=0.2, random_state=42)\n",
    "\n",
    "# Función objetivo para Optuna\n",
    "def objective(trial):\n",
    "    \"\"\"Función objetivo para la optimización de hiperparámetros con Optuna.\"\"\"\n",
    "    n_estimators = trial.suggest_int('n_estimators', 50, 300)\n",
    "    max_depth = trial.suggest_int('max_depth', 5, 50)\n",
    "    min_samples_split = trial.suggest_int('min_samples_split', 2, 10)\n",
    "    min_samples_leaf = trial.suggest_int('min_samples_leaf', 1, 5)\n",
    "\n",
    "    # Definir modelo\n",
    "    model = RandomForestClassifier(\n",
    "        n_estimators=n_estimators,\n",
    "        max_depth=max_depth,\n",
    "        min_samples_split=min_samples_split,\n",
    "        min_samples_leaf=min_samples_leaf,\n",
    "        random_state=42,\n",
    "        n_jobs=-1  # Paralelización\n",
    "    )\n",
    "\n",
    "    # Validación cruzada\n",
    "    score = cross_val_score(model, X_train, y_train, cv=5, scoring='f1', n_jobs=-1).mean()\n",
    "    return score  # Se optimiza F1-score\n",
    "\n",
    "# Configuración de Optuna\n",
    "sampler = optuna.samplers.TPESampler(seed=42)\n",
    "study = optuna.create_study(direction='maximize', sampler=sampler)\n",
    "study.optimize(objective, n_trials=100)  # Se aumentan las iteraciones\n",
    "\n",
    "# Obtener los mejores hiperparámetros\n",
    "best_params = study.best_params\n",
    "print(\"\\n--- HIPERPARÁMETROS SELECCIONADOS ---\")\n",
    "for param, value in best_params.items():\n",
    "    print(f\"{param}: {value}\")\n",
    "\n",
    "# Entrenar modelo final con mejores hiperparámetros\n",
    "model = RandomForestClassifier(**best_params, random_state=42, n_jobs=-1)\n",
    "model.fit(X_train, y_train)\n",
    "\n",
    "# Predicciones\n",
    "y_pred = model.predict(X_test)\n",
    "\n",
    "# Evaluación del modelo\n",
    "metrics = {\n",
    "    \"Accuracy\": accuracy_score(y_test, y_pred),\n",
    "    \"Precision\": precision_score(y_test, y_pred, zero_division=0),\n",
    "    \"Recall\": recall_score(y_test, y_pred, zero_division=0),\n",
    "    \"F1 Score\": f1_score(y_test, y_pred, zero_division=0),\n",
    "    \"F2 Score\": fbeta_score(y_test, y_pred, beta=2, zero_division=0),\n",
    "    \"ROC AUC Score\": roc_auc_score(y_test, y_pred),\n",
    "    \"R2 Score\": r2_score(y_test, y_pred),\n",
    "}\n",
    "\n",
    "print(\"\\n--- MÉTRICAS DEL MODELO OPTIMIZADO ---\")\n",
    "for metric, value in metrics.items():\n",
    "    print(f\"{metric}: {value:.4f}\")\n"
   ]
  },
  {
   "cell_type": "code",
   "execution_count": 41,
   "metadata": {},
   "outputs": [
    {
     "data": {
      "image/png": "[encoded data removed]",
      "text/plain": [
       "<Figure size 600x400 with 2 Axes>"
      ]
     },
     "metadata": {},
     "output_type": "display_data"
    }
   ],
   "source": [
    "import matplotlib.pyplot as plt\n",
    "from sklearn.metrics import accuracy_score, precision_score, recall_score, f1_score, fbeta_score, r2_score, confusion_matrix\n",
    "import seaborn as sns\n",
    "# Matriz de confusión\n",
    "conf_matrix = confusion_matrix(y_test, y_pred)\n",
    "plt.figure(figsize=(6, 4))\n",
    "sns.heatmap(conf_matrix, annot=True, fmt='d', cmap='Blues', xticklabels=['No Fake', 'Fake'], yticklabels=['No Fake', 'Fake'])\n",
    "plt.xlabel('Predicted')\n",
    "plt.ylabel('Actual')\n",
    "plt.title('Matriz de Confusión')\n",
    "plt.show()\n"
   ]
  },
  {
   "cell_type": "code",
   "execution_count": 42,
   "metadata": {},
   "outputs": [
    {
     "data": {
      "text/plain": [
       "['modelo_random_forest_Optuna.pkl']"
      ]
     },
     "execution_count": 42,
     "metadata": {},
     "output_type": "execute_result"
    }
   ],
   "source": [
    "\n",
    "import joblib\n",
    "\n",
    "# Guardar el modelo entrenado\n",
    "joblib.dump(model, \"modelo_random_forest_Optuna.pkl\")\n"
   ]
  }
 ],
 "metadata": {
  "kernelspec": {
   "display_name": "Python 3",
   "language": "python",
   "name": "python3"
  },
  "language_info": {
   "codemirror_mode": {
    "name": "ipython",
    "version": 3
   },
   "file_extension": ".py",
   "mimetype": "text/x-python",
   "name": "python",
   "nbconvert_exporter": "python",
   "pygments_lexer": "ipython3",
   "version": "3.11.9"
  }
 },
 "nbformat": 4,
 "nbformat_minor": 2
}
